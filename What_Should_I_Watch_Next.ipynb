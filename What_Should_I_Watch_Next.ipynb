{
  "nbformat": 4,
  "nbformat_minor": 0,
  "metadata": {
    "kernelspec": {
      "display_name": "Python 3",
      "language": "python",
      "name": "python3"
    },
    "language_info": {
      "codemirror_mode": {
        "name": "ipython",
        "version": 3
      },
      "file_extension": ".py",
      "mimetype": "text/x-python",
      "name": "python",
      "nbconvert_exporter": "python",
      "pygments_lexer": "ipython3",
      "version": "3.7.7"
    },
    "colab": {
      "name": "ML What Should I Watch Next.ipynb",
      "provenance": [],
      "include_colab_link": true
    }
  },
  "cells": [
    {
      "cell_type": "markdown",
      "metadata": {
        "id": "view-in-github",
        "colab_type": "text"
      },
      "source": [
        "<a href=\"https://colab.research.google.com/github/Charan619/What-should-I-watch-next/blob/master/What_Should_I_Watch_Next.ipynb\" target=\"_parent\"><img src=\"https://colab.research.google.com/assets/colab-badge.svg\" alt=\"Open In Colab\"/></a>"
      ]
    },
    {
      "cell_type": "markdown",
      "metadata": {
        "_cell_guid": "8372172a-e178-4d8c-b310-b2ab5af4f2cf",
        "_execution_state": "idle",
        "_uuid": "66b44501-b351-476d-a59c-1e03e89875a4",
        "id": "3_EwSgya9FVk"
      },
      "source": [
        "#  **What Should I Watch Next?**                \n",
        "   ### Charan K R, 18pt41, PSG College of Technology\n",
        "\n",
        "___\n",
        "##AIM:\n",
        "To create a cinema recommender.  After the user types the name of a film he liked, the recommender should be able to select the top 5 movies he will enjoy.\n",
        "\n",
        "We need to make suggestions based on:\n",
        "- **popularity** \n",
        "- **content**\n",
        "\n",
        "\n",
        "\n",
        "\n",
        "##**Contents**\n",
        "\n",
        "**1. Exploration / Insights**\n",
        "\n",
        "\n",
        "**2. Cleaning**\n",
        "\n",
        "    \n",
        "**3. Recommendation Engine**\n",
        "\n",
        "\n",
        "**4. Conclusion: possible improvements?**"
      ]
    },
    {
      "cell_type": "markdown",
      "metadata": {
        "_cell_guid": "aeeb8d38-68b3-4fb3-9ae6-88761dbc8cec",
        "_uuid": "80a44b64-f2a3-40de-9a26-c3cb56a543c9",
        "id": "msasMZps9FVx"
      },
      "source": [
        "___\n",
        "## 1. Exploration / Insights\n",
        "\n",
        " First, we define a few functions to create an interface with the new structure of the dataset."
      ]
    },
    {
      "cell_type": "code",
      "metadata": {
        "_cell_guid": "d63df9e1-7eb6-4425-9376-31d4288d1c30",
        "_kg_hide-input": true,
        "_uuid": "a975153b-8ae2-4f25-a7bc-a4a9a5c99848",
        "id": "PqDBcUkz9FVz",
        "cellView": "code"
      },
      "source": [
        "#@title Default title text\n",
        "import json\n",
        "import pandas as pd\n",
        "#___________________________\n",
        "def load_tmdb_movies(path):\n",
        "    df = pd.read_csv(path)\n",
        "    df['release_date'] = pd.to_datetime(df['release_date']).apply(lambda x: x.date())\n",
        "    json_columns = ['genres', 'keywords', 'production_countries',\n",
        "                    'production_companies', 'spoken_languages']\n",
        "    for column in json_columns:\n",
        "        df[column] = df[column].apply(json.loads)\n",
        "    return df\n",
        "#___________________________\n",
        "def load_tmdb_credits(path):\n",
        "    df = pd.read_csv(path)\n",
        "    json_columns = ['cast', 'crew']\n",
        "    for column in json_columns:\n",
        "        df[column] = df[column].apply(json.loads)\n",
        "    return df\n",
        "#___________________\n",
        "LOST_COLUMNS = [\n",
        "    'actor_1_facebook_likes',\n",
        "    'actor_2_facebook_likes',\n",
        "    'actor_3_facebook_likes',\n",
        "    'aspect_ratio',\n",
        "    'cast_total_facebook_likes',\n",
        "    'color',\n",
        "    'content_rating',\n",
        "    'director_facebook_likes',\n",
        "    'facenumber_in_poster',\n",
        "    'movie_facebook_likes',\n",
        "    'movie_imdb_link',\n",
        "    'num_critic_for_reviews',\n",
        "    'num_user_for_reviews']\n",
        "#____________________________________\n",
        "TMDB_TO_IMDB_SIMPLE_EQUIVALENCIES = {\n",
        "    'budget': 'budget',\n",
        "    'genres': 'genres',\n",
        "    'revenue': 'gross',\n",
        "    'title': 'movie_title',\n",
        "    'runtime': 'duration',\n",
        "    'original_language': 'language',\n",
        "    'keywords': 'plot_keywords',\n",
        "    'vote_count': 'num_voted_users'}\n",
        "#_____________________________________________________\n",
        "IMDB_COLUMNS_TO_REMAP = {'imdb_score': 'vote_average'}\n",
        "#_____________________________________________________\n",
        "def safe_access(container, index_values):\n",
        "    # return missing value rather than an error upon indexing/key failure\n",
        "    result = container\n",
        "    try:\n",
        "        for idx in index_values:\n",
        "            result = result[idx]\n",
        "        return result\n",
        "    except IndexError or KeyError:\n",
        "        return pd.np.nan\n",
        "#_____________________________________________________\n",
        "def get_director(crew_data):\n",
        "    directors = [x['name'] for x in crew_data if x['job'] == 'Director']\n",
        "    return safe_access(directors, [0])\n",
        "#_____________________________________________________\n",
        "def pipe_flatten_names(keywords):\n",
        "    return '|'.join([x['name'] for x in keywords])\n",
        "#_____________________________________________________\n",
        "def convert_to_original_format(movies, credits):\n",
        "    tmdb_movies = movies.copy()\n",
        "    tmdb_movies.rename(columns=TMDB_TO_IMDB_SIMPLE_EQUIVALENCIES, inplace=True)\n",
        "    tmdb_movies['title_year'] = pd.to_datetime(tmdb_movies['release_date']).apply(lambda x: x.year)\n",
        "    # I'm assuming that the first production country is equivalent, but have not been able to validate this\n",
        "    tmdb_movies['country'] = tmdb_movies['production_countries'].apply(lambda x: safe_access(x, [0, 'name']))\n",
        "    tmdb_movies['language'] = tmdb_movies['spoken_languages'].apply(lambda x: safe_access(x, [0, 'name']))\n",
        "    tmdb_movies['director_name'] = credits['crew'].apply(get_director)\n",
        "    tmdb_movies['actor_1_name'] = credits['cast'].apply(lambda x: safe_access(x, [1, 'name']))\n",
        "    tmdb_movies['actor_2_name'] = credits['cast'].apply(lambda x: safe_access(x, [2, 'name']))\n",
        "    tmdb_movies['actor_3_name'] = credits['cast'].apply(lambda x: safe_access(x, [3, 'name']))\n",
        "    tmdb_movies['genres'] = tmdb_movies['genres'].apply(pipe_flatten_names)\n",
        "    tmdb_movies['plot_keywords'] = tmdb_movies['plot_keywords'].apply(pipe_flatten_names)\n",
        "    return tmdb_movies"
      ],
      "execution_count": null,
      "outputs": []
    },
    {
      "cell_type": "code",
      "metadata": {
        "_cell_guid": "27dd9de4-62b3-465c-b2ea-1241bbec24cf",
        "_kg_hide-input": true,
        "_uuid": "4b44e24f-d376-4650-aef2-efa1e784cc99",
        "id": "VibiSQvo9FV4"
      },
      "source": [
        "from subprocess import check_output\n",
        "#print(check_output([\"ls\", \"../input/tmdb-movie-metadata/\"]).decode(\"utf8\"))"
      ],
      "execution_count": null,
      "outputs": []
    },
    {
      "cell_type": "code",
      "metadata": {
        "id": "k01dOozQpa0n",
        "colab": {
          "base_uri": "https://localhost:8080/"
        },
        "outputId": "732394a1-eb03-4a7a-90f1-8eda57022448"
      },
      "source": [
        "!pip install fuzzywuzzy"
      ],
      "execution_count": null,
      "outputs": [
        {
          "output_type": "stream",
          "text": [
            "Requirement already satisfied: fuzzywuzzy in /usr/local/lib/python3.7/dist-packages (0.18.0)\n"
          ],
          "name": "stdout"
        }
      ]
    },
    {
      "cell_type": "code",
      "metadata": {
        "_cell_guid": "d1dbce81-575d-49cf-a4eb-58967a048f6b",
        "_execution_state": "idle",
        "_kg_hide-input": true,
        "_uuid": "d016d5a9-d389-473b-93a0-d209f3cd7510",
        "scrolled": false,
        "id": "xfKXx-wM9FV8",
        "colab": {
          "base_uri": "https://localhost:8080/",
          "height": 252
        },
        "outputId": "b0cdb996-cdc0-45c3-eec8-87812652fb56"
      },
      "source": [
        "import numpy as np\n",
        "import matplotlib as mpl\n",
        "import matplotlib.pyplot as plt\n",
        "import seaborn as sns\n",
        "import math, nltk, warnings\n",
        "from nltk.corpus import wordnet\n",
        "from sklearn import linear_model\n",
        "from sklearn.neighbors import NearestNeighbors\n",
        "from fuzzywuzzy import fuzz\n",
        "from wordcloud import WordCloud, STOPWORDS\n",
        "plt.rcParams[\"patch.force_edgecolor\"] = True\n",
        "plt.style.use('fivethirtyeight')\n",
        "mpl.rc('patch', edgecolor = 'dimgray', linewidth=1)\n",
        "from IPython.core.interactiveshell import InteractiveShell\n",
        "InteractiveShell.ast_node_interactivity = \"last_expr\"\n",
        "pd.options.display.max_columns = 50\n",
        "%matplotlib inline\n",
        "warnings.filterwarnings('ignore')\n",
        "PS = nltk.stem.PorterStemmer()\n",
        "#__________________\n",
        "# load the dataset\n",
        "credits = load_tmdb_credits(\"/content/tmdb_5000_credits.csv\")\n",
        "movies = load_tmdb_movies(\"/content/tmdb_5000_movies.csv\")\n",
        "df_initial = convert_to_original_format(movies, credits)\n",
        "print('Shape:',df_initial.shape)\n",
        "#__________________________________________\n",
        "# info on variable types and filling factor\n",
        "tab_info=pd.DataFrame(df_initial.dtypes).T.rename(index={0:'column type'})\n",
        "tab_info=tab_info.append(pd.DataFrame(df_initial.isnull().sum()).T.rename(index={0:'null values'}))\n",
        "tab_info=tab_info.append(pd.DataFrame(df_initial.isnull().sum()/df_initial.shape[0]*100).T.\n",
        "                         rename(index={0:'null values (%)'}))\n",
        "tab_info"
      ],
      "execution_count": null,
      "outputs": [
        {
          "output_type": "stream",
          "text": [
            "Shape: (4803, 26)\n"
          ],
          "name": "stdout"
        },
        {
          "output_type": "execute_result",
          "data": {
            "text/html": [
              "<div>\n",
              "<style scoped>\n",
              "    .dataframe tbody tr th:only-of-type {\n",
              "        vertical-align: middle;\n",
              "    }\n",
              "\n",
              "    .dataframe tbody tr th {\n",
              "        vertical-align: top;\n",
              "    }\n",
              "\n",
              "    .dataframe thead th {\n",
              "        text-align: right;\n",
              "    }\n",
              "</style>\n",
              "<table border=\"1\" class=\"dataframe\">\n",
              "  <thead>\n",
              "    <tr style=\"text-align: right;\">\n",
              "      <th></th>\n",
              "      <th>budget</th>\n",
              "      <th>genres</th>\n",
              "      <th>homepage</th>\n",
              "      <th>id</th>\n",
              "      <th>plot_keywords</th>\n",
              "      <th>language</th>\n",
              "      <th>original_title</th>\n",
              "      <th>overview</th>\n",
              "      <th>popularity</th>\n",
              "      <th>production_companies</th>\n",
              "      <th>production_countries</th>\n",
              "      <th>release_date</th>\n",
              "      <th>gross</th>\n",
              "      <th>duration</th>\n",
              "      <th>spoken_languages</th>\n",
              "      <th>status</th>\n",
              "      <th>tagline</th>\n",
              "      <th>movie_title</th>\n",
              "      <th>vote_average</th>\n",
              "      <th>num_voted_users</th>\n",
              "      <th>title_year</th>\n",
              "      <th>country</th>\n",
              "      <th>director_name</th>\n",
              "      <th>actor_1_name</th>\n",
              "      <th>actor_2_name</th>\n",
              "      <th>actor_3_name</th>\n",
              "    </tr>\n",
              "  </thead>\n",
              "  <tbody>\n",
              "    <tr>\n",
              "      <th>column type</th>\n",
              "      <td>int64</td>\n",
              "      <td>object</td>\n",
              "      <td>object</td>\n",
              "      <td>int64</td>\n",
              "      <td>object</td>\n",
              "      <td>object</td>\n",
              "      <td>object</td>\n",
              "      <td>object</td>\n",
              "      <td>float64</td>\n",
              "      <td>object</td>\n",
              "      <td>object</td>\n",
              "      <td>object</td>\n",
              "      <td>int64</td>\n",
              "      <td>float64</td>\n",
              "      <td>object</td>\n",
              "      <td>object</td>\n",
              "      <td>object</td>\n",
              "      <td>object</td>\n",
              "      <td>float64</td>\n",
              "      <td>int64</td>\n",
              "      <td>float64</td>\n",
              "      <td>object</td>\n",
              "      <td>object</td>\n",
              "      <td>object</td>\n",
              "      <td>object</td>\n",
              "      <td>object</td>\n",
              "    </tr>\n",
              "    <tr>\n",
              "      <th>null values</th>\n",
              "      <td>0</td>\n",
              "      <td>0</td>\n",
              "      <td>3091</td>\n",
              "      <td>0</td>\n",
              "      <td>0</td>\n",
              "      <td>86</td>\n",
              "      <td>0</td>\n",
              "      <td>3</td>\n",
              "      <td>0</td>\n",
              "      <td>0</td>\n",
              "      <td>0</td>\n",
              "      <td>1</td>\n",
              "      <td>0</td>\n",
              "      <td>2</td>\n",
              "      <td>0</td>\n",
              "      <td>0</td>\n",
              "      <td>844</td>\n",
              "      <td>0</td>\n",
              "      <td>0</td>\n",
              "      <td>0</td>\n",
              "      <td>1</td>\n",
              "      <td>174</td>\n",
              "      <td>30</td>\n",
              "      <td>53</td>\n",
              "      <td>63</td>\n",
              "      <td>93</td>\n",
              "    </tr>\n",
              "    <tr>\n",
              "      <th>null values (%)</th>\n",
              "      <td>0</td>\n",
              "      <td>0</td>\n",
              "      <td>64.3556</td>\n",
              "      <td>0</td>\n",
              "      <td>0</td>\n",
              "      <td>1.79055</td>\n",
              "      <td>0</td>\n",
              "      <td>0.062461</td>\n",
              "      <td>0</td>\n",
              "      <td>0</td>\n",
              "      <td>0</td>\n",
              "      <td>0.0208203</td>\n",
              "      <td>0</td>\n",
              "      <td>0.0416406</td>\n",
              "      <td>0</td>\n",
              "      <td>0</td>\n",
              "      <td>17.5724</td>\n",
              "      <td>0</td>\n",
              "      <td>0</td>\n",
              "      <td>0</td>\n",
              "      <td>0.0208203</td>\n",
              "      <td>3.62274</td>\n",
              "      <td>0.62461</td>\n",
              "      <td>1.10348</td>\n",
              "      <td>1.31168</td>\n",
              "      <td>1.93629</td>\n",
              "    </tr>\n",
              "  </tbody>\n",
              "</table>\n",
              "</div>"
            ],
            "text/plain": [
              "                budget  genres homepage     id plot_keywords language  \\\n",
              "column type      int64  object   object  int64        object   object   \n",
              "null values          0       0     3091      0             0       86   \n",
              "null values (%)      0       0  64.3556      0             0  1.79055   \n",
              "\n",
              "                original_title  overview popularity production_companies  \\\n",
              "column type             object    object    float64               object   \n",
              "null values                  0         3          0                    0   \n",
              "null values (%)              0  0.062461          0                    0   \n",
              "\n",
              "                production_countries release_date  gross   duration  \\\n",
              "column type                   object       object  int64    float64   \n",
              "null values                        0            1      0          2   \n",
              "null values (%)                    0    0.0208203      0  0.0416406   \n",
              "\n",
              "                spoken_languages  status  tagline movie_title vote_average  \\\n",
              "column type               object  object   object      object      float64   \n",
              "null values                    0       0      844           0            0   \n",
              "null values (%)                0       0  17.5724           0            0   \n",
              "\n",
              "                num_voted_users title_year  country director_name  \\\n",
              "column type               int64    float64   object        object   \n",
              "null values                   0          1      174            30   \n",
              "null values (%)               0  0.0208203  3.62274       0.62461   \n",
              "\n",
              "                actor_1_name actor_2_name actor_3_name  \n",
              "column type           object       object       object  \n",
              "null values               53           63           93  \n",
              "null values (%)      1.10348      1.31168      1.93629  "
            ]
          },
          "metadata": {
            "tags": []
          },
          "execution_count": 71
        }
      ]
    },
    {
      "cell_type": "markdown",
      "metadata": {
        "_cell_guid": "a39a3e63-32a4-47c4-8a80-0ff19675f4e4",
        "_uuid": "94756da3-874b-4229-83a3-9a73d9a8ef6a",
        "id": "xbCUIERC9FV-"
      },
      "source": [
        "___\n",
        "### 1.1 Keywords"
      ]
    },
    {
      "cell_type": "markdown",
      "metadata": {
        "_cell_guid": "0670aa37-5c31-4135-82e6-d0a16a20f964",
        "_uuid": "e080298e-17fc-4c14-b0a9-1b48bc2198d8",
        "id": "-mRZKUsp9FV_"
      },
      "source": [
        "To develop the recommendation engine, I plan to make an extensive use of the keywords that describe the films. Basic assumption is that films described by similar keywords should have similar contents. To do so, I first list the keywords which are in the dataset:"
      ]
    },
    {
      "cell_type": "code",
      "metadata": {
        "_cell_guid": "ae672767-6538-4663-9cde-6c20044d2a3c",
        "_execution_state": "idle",
        "_kg_hide-input": true,
        "_uuid": "efa321f0-e29a-4e1a-9c0f-f221a5aabeba",
        "id": "I2Y5nd5z9FWA"
      },
      "source": [
        "set_keywords = set()\n",
        "for list_keywords in df_initial['plot_keywords'].str.split('|').values:\n",
        "    if isinstance(list_keywords, float): continue  # only happen if list_keywords = NaN\n",
        "    set_keywords = set_keywords.union(list_keywords)\n",
        "#_________________________\n",
        "# remove null chain entry\n",
        "set_keywords.remove('')"
      ],
      "execution_count": null,
      "outputs": []
    },
    {
      "cell_type": "markdown",
      "metadata": {
        "_cell_guid": "d0f1ac05-cff9-4d33-a82c-27ce41fb5bdf",
        "_uuid": "4a29b481-e586-4fcd-9b45-daa66f99a0ca",
        "id": "6hiI-nvx9FWB"
      },
      "source": [
        "and then define a function that counts the number of times each of them appear:"
      ]
    },
    {
      "cell_type": "code",
      "metadata": {
        "_cell_guid": "835a15ff-9450-42f6-b246-39e454781fc7",
        "_execution_state": "idle",
        "_kg_hide-input": true,
        "_uuid": "e2063f40-bc84-43b5-81cb-02b8ea89b1ae",
        "id": "O51Q1c-l9FWC"
      },
      "source": [
        "def count_word(df, ref_col, list):\n",
        "    keyword_count = dict()\n",
        "    for s in list: keyword_count[s] = 0\n",
        "    for list_keywords in df[ref_col].str.split('|'):        \n",
        "        if type(list_keywords) == float and pd.isnull(list_keywords): continue        \n",
        "        for s in [s for s in list_keywords if s in list]: \n",
        "            if pd.notnull(s): keyword_count[s] += 1\n",
        "    #______________________________________________________________________\n",
        "    # convert the dictionary in a list to sort the keywords by frequency\n",
        "    keyword_occurences = []\n",
        "    for k,v in keyword_count.items():\n",
        "        keyword_occurences.append([k,v])\n",
        "    keyword_occurences.sort(key = lambda x:x[1], reverse = True)\n",
        "    return keyword_occurences, keyword_count"
      ],
      "execution_count": null,
      "outputs": []
    },
    {
      "cell_type": "code",
      "metadata": {
        "_cell_guid": "67e6b5cf-e8d5-4622-80e2-6bc6a0853990",
        "_execution_state": "idle",
        "_kg_hide-input": true,
        "_uuid": "91f169dc-6c2e-431b-8fcb-b4aa2dbcb15a",
        "id": "K-afbCgL9FWF",
        "colab": {
          "base_uri": "https://localhost:8080/"
        },
        "outputId": "c4c4cbc3-5094-4742-bc08-c750805dd4a3"
      },
      "source": [
        "keyword_occurences, dum = count_word(df_initial, 'plot_keywords', set_keywords)\n",
        "keyword_occurences[:5]"
      ],
      "execution_count": null,
      "outputs": [
        {
          "output_type": "execute_result",
          "data": {
            "text/plain": [
              "[['woman director', 324],\n",
              " ['independent film', 318],\n",
              " ['duringcreditsstinger', 307],\n",
              " ['based on novel', 197],\n",
              " ['murder', 189]]"
            ]
          },
          "metadata": {
            "tags": []
          },
          "execution_count": 74
        }
      ]
    },
    {
      "cell_type": "code",
      "metadata": {
        "_cell_guid": "71950d45-5045-4d5e-80fd-c66c26de181d",
        "_execution_state": "idle",
        "_kg_hide-input": true,
        "_uuid": "9ab97199-69cf-4926-82c0-8d804f8a57af",
        "id": "GEcUz1XO9FWH",
        "colab": {
          "base_uri": "https://localhost:8080/",
          "height": 575
        },
        "outputId": "4d68a8cf-b869-4cb6-e346-60dfbd6856a2"
      },
      "source": [
        "#_____________________________________________\n",
        "# Function that control the color of the words\n",
        "\n",
        "\n",
        "\n",
        "fig = plt.figure(1, figsize=(18,13))\n",
        "#_______________________________________________________\n",
        "\n",
        "#_____________________________________________\n",
        "# LOWER PANEL: HISTOGRAMS\n",
        "ax2 = fig.add_subplot(2,1,2)\n",
        "words = dict()\n",
        "trunc_occurences = keyword_occurences[0:50]\n",
        "y_axis = [i[1] for i in trunc_occurences]\n",
        "x_axis = [k for k,i in enumerate(trunc_occurences)]\n",
        "x_label = [i[0] for i in trunc_occurences]\n",
        "plt.xticks(rotation=85, fontsize = 15)\n",
        "plt.yticks(fontsize = 15)\n",
        "plt.xticks(x_axis, x_label)\n",
        "plt.ylabel(\"Nb. of occurences\", fontsize = 18, labelpad = 10)\n",
        "ax2.bar(x_axis, y_axis, align = 'center', color='g')\n",
        "#_______________________\n",
        "plt.title(\"Keywords popularity\",bbox={'facecolor':'k', 'pad':5},color='w',fontsize = 25)\n",
        "plt.show()"
      ],
      "execution_count": null,
      "outputs": [
        {
          "output_type": "display_data",
          "data": {
            "image/png": "[encoded data removed]",
            "text/plain": [
              "<Figure size 1296x936 with 1 Axes>"
            ]
          },
          "metadata": {
            "tags": [],
            "needs_background": "light"
          }
        }
      ]
    },
    {
      "cell_type": "code",
      "metadata": {
        "_cell_guid": "90eff041-30bb-47cb-a509-4387972a9d29",
        "_kg_hide-input": true,
        "_uuid": "f1dc7de6-e64f-4975-94fd-2b238e5e54c0",
        "scrolled": false,
        "id": "IZlFfKPv9FWI",
        "colab": {
          "base_uri": "https://localhost:8080/",
          "height": 865
        },
        "outputId": "12a19ea0-5675-4aa5-99a2-0b6b0738c755"
      },
      "source": [
        "missing_df = df_initial.isnull().sum(axis=0).reset_index()\n",
        "missing_df.columns = ['column_name', 'missing_count']\n",
        "missing_df['filling_factor'] = (df_initial.shape[0] \n",
        "                                - missing_df['missing_count']) / df_initial.shape[0] * 100\n",
        "missing_df.sort_values('filling_factor').reset_index(drop = True)"
      ],
      "execution_count": null,
      "outputs": [
        {
          "output_type": "execute_result",
          "data": {
            "text/html": [
              "<div>\n",
              "<style scoped>\n",
              "    .dataframe tbody tr th:only-of-type {\n",
              "        vertical-align: middle;\n",
              "    }\n",
              "\n",
              "    .dataframe tbody tr th {\n",
              "        vertical-align: top;\n",
              "    }\n",
              "\n",
              "    .dataframe thead th {\n",
              "        text-align: right;\n",
              "    }\n",
              "</style>\n",
              "<table border=\"1\" class=\"dataframe\">\n",
              "  <thead>\n",
              "    <tr style=\"text-align: right;\">\n",
              "      <th></th>\n",
              "      <th>column_name</th>\n",
              "      <th>missing_count</th>\n",
              "      <th>filling_factor</th>\n",
              "    </tr>\n",
              "  </thead>\n",
              "  <tbody>\n",
              "    <tr>\n",
              "      <th>0</th>\n",
              "      <td>homepage</td>\n",
              "      <td>3091</td>\n",
              "      <td>35.644389</td>\n",
              "    </tr>\n",
              "    <tr>\n",
              "      <th>1</th>\n",
              "      <td>tagline</td>\n",
              "      <td>844</td>\n",
              "      <td>82.427649</td>\n",
              "    </tr>\n",
              "    <tr>\n",
              "      <th>2</th>\n",
              "      <td>country</td>\n",
              "      <td>174</td>\n",
              "      <td>96.377264</td>\n",
              "    </tr>\n",
              "    <tr>\n",
              "      <th>3</th>\n",
              "      <td>actor_3_name</td>\n",
              "      <td>93</td>\n",
              "      <td>98.063710</td>\n",
              "    </tr>\n",
              "    <tr>\n",
              "      <th>4</th>\n",
              "      <td>language</td>\n",
              "      <td>86</td>\n",
              "      <td>98.209452</td>\n",
              "    </tr>\n",
              "    <tr>\n",
              "      <th>5</th>\n",
              "      <td>actor_2_name</td>\n",
              "      <td>63</td>\n",
              "      <td>98.688320</td>\n",
              "    </tr>\n",
              "    <tr>\n",
              "      <th>6</th>\n",
              "      <td>actor_1_name</td>\n",
              "      <td>53</td>\n",
              "      <td>98.896523</td>\n",
              "    </tr>\n",
              "    <tr>\n",
              "      <th>7</th>\n",
              "      <td>director_name</td>\n",
              "      <td>30</td>\n",
              "      <td>99.375390</td>\n",
              "    </tr>\n",
              "    <tr>\n",
              "      <th>8</th>\n",
              "      <td>overview</td>\n",
              "      <td>3</td>\n",
              "      <td>99.937539</td>\n",
              "    </tr>\n",
              "    <tr>\n",
              "      <th>9</th>\n",
              "      <td>duration</td>\n",
              "      <td>2</td>\n",
              "      <td>99.958359</td>\n",
              "    </tr>\n",
              "    <tr>\n",
              "      <th>10</th>\n",
              "      <td>title_year</td>\n",
              "      <td>1</td>\n",
              "      <td>99.979180</td>\n",
              "    </tr>\n",
              "    <tr>\n",
              "      <th>11</th>\n",
              "      <td>release_date</td>\n",
              "      <td>1</td>\n",
              "      <td>99.979180</td>\n",
              "    </tr>\n",
              "    <tr>\n",
              "      <th>12</th>\n",
              "      <td>num_voted_users</td>\n",
              "      <td>0</td>\n",
              "      <td>100.000000</td>\n",
              "    </tr>\n",
              "    <tr>\n",
              "      <th>13</th>\n",
              "      <td>vote_average</td>\n",
              "      <td>0</td>\n",
              "      <td>100.000000</td>\n",
              "    </tr>\n",
              "    <tr>\n",
              "      <th>14</th>\n",
              "      <td>movie_title</td>\n",
              "      <td>0</td>\n",
              "      <td>100.000000</td>\n",
              "    </tr>\n",
              "    <tr>\n",
              "      <th>15</th>\n",
              "      <td>budget</td>\n",
              "      <td>0</td>\n",
              "      <td>100.000000</td>\n",
              "    </tr>\n",
              "    <tr>\n",
              "      <th>16</th>\n",
              "      <td>spoken_languages</td>\n",
              "      <td>0</td>\n",
              "      <td>100.000000</td>\n",
              "    </tr>\n",
              "    <tr>\n",
              "      <th>17</th>\n",
              "      <td>production_countries</td>\n",
              "      <td>0</td>\n",
              "      <td>100.000000</td>\n",
              "    </tr>\n",
              "    <tr>\n",
              "      <th>18</th>\n",
              "      <td>production_companies</td>\n",
              "      <td>0</td>\n",
              "      <td>100.000000</td>\n",
              "    </tr>\n",
              "    <tr>\n",
              "      <th>19</th>\n",
              "      <td>popularity</td>\n",
              "      <td>0</td>\n",
              "      <td>100.000000</td>\n",
              "    </tr>\n",
              "    <tr>\n",
              "      <th>20</th>\n",
              "      <td>original_title</td>\n",
              "      <td>0</td>\n",
              "      <td>100.000000</td>\n",
              "    </tr>\n",
              "    <tr>\n",
              "      <th>21</th>\n",
              "      <td>plot_keywords</td>\n",
              "      <td>0</td>\n",
              "      <td>100.000000</td>\n",
              "    </tr>\n",
              "    <tr>\n",
              "      <th>22</th>\n",
              "      <td>id</td>\n",
              "      <td>0</td>\n",
              "      <td>100.000000</td>\n",
              "    </tr>\n",
              "    <tr>\n",
              "      <th>23</th>\n",
              "      <td>genres</td>\n",
              "      <td>0</td>\n",
              "      <td>100.000000</td>\n",
              "    </tr>\n",
              "    <tr>\n",
              "      <th>24</th>\n",
              "      <td>status</td>\n",
              "      <td>0</td>\n",
              "      <td>100.000000</td>\n",
              "    </tr>\n",
              "    <tr>\n",
              "      <th>25</th>\n",
              "      <td>gross</td>\n",
              "      <td>0</td>\n",
              "      <td>100.000000</td>\n",
              "    </tr>\n",
              "  </tbody>\n",
              "</table>\n",
              "</div>"
            ],
            "text/plain": [
              "             column_name  missing_count  filling_factor\n",
              "0               homepage           3091       35.644389\n",
              "1                tagline            844       82.427649\n",
              "2                country            174       96.377264\n",
              "3           actor_3_name             93       98.063710\n",
              "4               language             86       98.209452\n",
              "5           actor_2_name             63       98.688320\n",
              "6           actor_1_name             53       98.896523\n",
              "7          director_name             30       99.375390\n",
              "8               overview              3       99.937539\n",
              "9               duration              2       99.958359\n",
              "10            title_year              1       99.979180\n",
              "11          release_date              1       99.979180\n",
              "12       num_voted_users              0      100.000000\n",
              "13          vote_average              0      100.000000\n",
              "14           movie_title              0      100.000000\n",
              "15                budget              0      100.000000\n",
              "16      spoken_languages              0      100.000000\n",
              "17  production_countries              0      100.000000\n",
              "18  production_companies              0      100.000000\n",
              "19            popularity              0      100.000000\n",
              "20        original_title              0      100.000000\n",
              "21         plot_keywords              0      100.000000\n",
              "22                    id              0      100.000000\n",
              "23                genres              0      100.000000\n",
              "24                status              0      100.000000\n",
              "25                 gross              0      100.000000"
            ]
          },
          "metadata": {
            "tags": []
          },
          "execution_count": 76
        }
      ]
    },
    {
      "cell_type": "markdown",
      "metadata": {
        "_cell_guid": "b77b90cf-2fff-4e78-af66-ef78f227b59f",
        "_uuid": "615b3962-16cf-4e4f-8a52-960c5cd80ff5",
        "id": "NseE5V229FWK"
      },
      "source": [
        "___\n",
        "### 1.2 Number of films per year"
      ]
    },
    {
      "cell_type": "code",
      "metadata": {
        "_cell_guid": "b7a2d270-8425-4c30-ad10-121b273db34a",
        "_execution_state": "idle",
        "_kg_hide-input": true,
        "_uuid": "59eaac0f-894e-48d4-8d65-4fb45c62fd2a",
        "id": "BwMc4We49FWL"
      },
      "source": [
        "df_initial['decade'] = df_initial['title_year'].apply(lambda x:((x-1900)//10)*10)\n",
        "#__________________________________________________________________\n",
        "# function that extract statistical parameters from a grouby objet:\n",
        "def get_stats(gr):\n",
        "    return {'min':gr.min(),'max':gr.max(),'count': gr.count(),'mean':gr.mean()}\n",
        "#______________________________________________________________\n",
        "# Creation of a dataframe with statitical infos on each decade:\n",
        "test = df_initial['title_year'].groupby(df_initial['decade']).apply(get_stats).unstack()"
      ],
      "execution_count": null,
      "outputs": []
    },
    {
      "cell_type": "code",
      "metadata": {
        "_cell_guid": "25534c4e-40cc-4b29-a276-36be93b5c7e9",
        "_execution_state": "idle",
        "_kg_hide-input": true,
        "_uuid": "326a8168-19e0-4748-9055-16ba1155d7fa",
        "id": "g-tK7a089FWL",
        "colab": {
          "base_uri": "https://localhost:8080/",
          "height": 375
        },
        "outputId": "bdc02a6c-7597-4704-b2b2-f52f7e058fc2"
      },
      "source": [
        "sns.set_context(\"poster\", font_scale=0.85)\n",
        "def label(s):\n",
        "    val = (1900 + s, s)[s < 100]\n",
        "    chain = '' if s < 50 else \"{}'s\".format(int(val))\n",
        "    return chain\n",
        "plt.rc('font', weight='bold')\n",
        "f, ax = plt.subplots(figsize=(11, 6))\n",
        "labels = [label(s) for s in  test.index]\n",
        "sizes  = test['count'].values\n",
        "explode = [0.2 if sizes[i] < 100 else 0.01 for i in range(11)]\n",
        "ax.pie(sizes, explode = explode, labels=labels,\n",
        "       autopct = lambda x:'{:1.0f}%'.format(x) if x > 1 else '',\n",
        "       shadow=False, startangle=0)\n",
        "ax.axis('equal')\n",
        "ax.set_title('% of films per decade',\n",
        "             bbox={'facecolor':'k', 'pad':5},color='w', fontsize=16);\n",
        "df_initial.drop('decade', axis=1, inplace = True)"
      ],
      "execution_count": null,
      "outputs": [
        {
          "output_type": "display_data",
          "data": {
            "image/png": "[encoded data removed]",
            "text/plain": [
              "<Figure size 792x432 with 1 Axes>"
            ]
          },
          "metadata": {
            "tags": []
          }
        }
      ]
    },
    {
      "cell_type": "markdown",
      "metadata": {
        "_cell_guid": "89fcbbe9-c0f7-443b-acd2-8735456fc72a",
        "_uuid": "aa1184bd-3222-45d8-81d9-4360aeaf45ee",
        "id": "QmbQhyd79FWM"
      },
      "source": [
        "___\n",
        "### 1.3 Genres"
      ]
    },
    {
      "cell_type": "code",
      "metadata": {
        "_cell_guid": "aa033549-e7cf-428f-b13c-667caeeb0925",
        "_execution_state": "idle",
        "_kg_hide-input": true,
        "_uuid": "fddf6fce-5cb0-4c7f-a109-32ef42af5bf1",
        "id": "wQA8btW-9FWN"
      },
      "source": [
        "genre_labels = set()\n",
        "for s in df_initial['genres'].str.split('|').values:\n",
        "    genre_labels = genre_labels.union(set(s))"
      ],
      "execution_count": null,
      "outputs": []
    },
    {
      "cell_type": "markdown",
      "metadata": {
        "_cell_guid": "2281a83b-4d85-440d-9ca7-3f0019770fad",
        "_uuid": "462e5e8a-7ec6-48f8-a320-e3513d2d6a35",
        "id": "qlODCM7r9FWO"
      },
      "source": [
        "and then counting how many times each of them occur:"
      ]
    },
    {
      "cell_type": "code",
      "metadata": {
        "_cell_guid": "f38fb0e4-d18c-484b-8077-5d3a53d82426",
        "_execution_state": "idle",
        "_kg_hide-input": true,
        "_uuid": "d87b99b9-eec6-45c1-a276-885e3293b617",
        "id": "aeGfIiP79FWP",
        "colab": {
          "base_uri": "https://localhost:8080/"
        },
        "outputId": "67bcc672-7182-4231-ac64-16800d92178b"
      },
      "source": [
        "keyword_occurences, dum = count_word(df_initial, 'genres', genre_labels)\n",
        "keyword_occurences[:5]"
      ],
      "execution_count": null,
      "outputs": [
        {
          "output_type": "execute_result",
          "data": {
            "text/plain": [
              "[['Drama', 2297],\n",
              " ['Comedy', 1722],\n",
              " ['Thriller', 1274],\n",
              " ['Action', 1154],\n",
              " ['Romance', 894]]"
            ]
          },
          "metadata": {
            "tags": []
          },
          "execution_count": 80
        }
      ]
    },
    {
      "cell_type": "markdown",
      "metadata": {
        "_cell_guid": "47082a9e-4ae1-447f-9ec7-47c68b47c63e",
        "_uuid": "b0f2dd79-600d-4197-ac01-fa3400ed9393",
        "id": "HuqPZtWh9FWP"
      },
      "source": [
        "Finally, the result is shown as a wordcloud:"
      ]
    },
    {
      "cell_type": "code",
      "metadata": {
        "_cell_guid": "f2ae1fa3-b569-491b-b1e4-11affcfd541f",
        "_execution_state": "idle",
        "_kg_hide-input": true,
        "_uuid": "1a1047ba-7443-40e2-9fac-2969dae593e9",
        "id": "wM3FcZUe9FWQ",
        "colab": {
          "base_uri": "https://localhost:8080/",
          "height": 357
        },
        "outputId": "eb2fd354-7963-48f8-de06-6cc611f4f2fc"
      },
      "source": [
        "words = dict()\n",
        "trunc_occurences = keyword_occurences[0:50]\n",
        "for s in trunc_occurences:\n",
        "    words[s[0]] = s[1]\n",
        "tone = 100 # define the color of the words\n",
        "f, ax = plt.subplots(figsize=(14, 6))\n",
        "wordcloud = WordCloud(width=550,height=300, background_color='black', \n",
        "                      max_words=1628,relative_scaling=0.7,\n",
        "                      color_func = random_color_func,\n",
        "                      normalize_plurals=False)\n",
        "wordcloud.generate_from_frequencies(words)\n",
        "plt.imshow(wordcloud, interpolation=\"bilinear\")\n",
        "plt.axis('off')\n",
        "plt.show()"
      ],
      "execution_count": null,
      "outputs": [
        {
          "output_type": "display_data",
          "data": {
            "image/png": "[encoded data removed]",
            "text/plain": [
              "<Figure size 1008x432 with 1 Axes>"
            ]
          },
          "metadata": {
            "tags": [],
            "needs_background": "light"
          }
        }
      ]
    },
    {
      "cell_type": "markdown",
      "metadata": {
        "_cell_guid": "436841b7-8332-4794-9a80-7cd23c814ea3",
        "_execution_state": "idle",
        "_uuid": "9bbcc0c5-303f-4f97-b2cc-dd8d6ddd4558",
        "id": "U265Mz4c9FWS"
      },
      "source": [
        "___\n",
        "## 2. Cleaning\n",
        "___"
      ]
    },
    {
      "cell_type": "code",
      "metadata": {
        "_cell_guid": "8edb8d27-ee60-4475-80dd-f6a3ee20a63c",
        "_execution_state": "idle",
        "_kg_hide-input": true,
        "_uuid": "a70b548c-f252-44f1-9f13-2f85d4ce2049",
        "id": "cAEKaktU9FWT"
      },
      "source": [
        "df_duplicate_cleaned = df_initial"
      ],
      "execution_count": null,
      "outputs": []
    },
    {
      "cell_type": "markdown",
      "metadata": {
        "_cell_guid": "52da3b8d-4f4e-47ec-bc6b-68694d7b8363",
        "_execution_state": "idle",
        "_uuid": "045d0239-bc0d-4c92-ac15-020c5dfb823f",
        "id": "UNfHNA3X9FWT"
      },
      "source": [
        "___\n",
        "### 2.1 Cleaning of the keywords\n"
      ]
    },
    {
      "cell_type": "markdown",
      "metadata": {
        "_cell_guid": "984055ff-cce9-4158-8ce2-abc86760740e",
        "_uuid": "06dcb202-df66-44b8-93da-a96350f33db5",
        "id": "5fJ_4HhM9FWT"
      },
      "source": [
        "___\n",
        "#### 2.1.1 Grouping by *roots*\n",
        "\n",
        "I collect the keywords that appear in the **plot\\_keywords** variable. This list is then cleaned using the NLTK package. Finally, I look for the number of occurence of the various keywords."
      ]
    },
    {
      "cell_type": "code",
      "metadata": {
        "_cell_guid": "4055eb75-a2d0-4c49-92be-c9205a73ca43",
        "_execution_state": "idle",
        "_kg_hide-input": true,
        "_uuid": "b28e9cee-10f7-431f-ab86-6903e26b2d3e",
        "id": "FS1VU6VP9FWU"
      },
      "source": [
        "# Collect the keywords\n",
        "#----------------------\n",
        "def keywords_inventory(dataframe, column = 'plot_keywords'):\n",
        "    PS = nltk.stem.PorterStemmer()\n",
        "    keywords_roots  = dict()  # collect the words / root\n",
        "    keywords_select = dict()  # association: root <-> keyword\n",
        "    category_keys = []\n",
        "    icount = 0\n",
        "    for s in dataframe[column]:\n",
        "        if pd.isnull(s): continue\n",
        "        for t in s.split('|'):\n",
        "            t = t.lower() ; racine = PS.stem(t)\n",
        "            if racine in keywords_roots:                \n",
        "                keywords_roots[racine].add(t)\n",
        "            else:\n",
        "                keywords_roots[racine] = {t}\n",
        "    \n",
        "    for s in keywords_roots.keys():\n",
        "        if len(keywords_roots[s]) > 1:  \n",
        "            min_length = 1000\n",
        "            for k in keywords_roots[s]:\n",
        "                if len(k) < min_length:\n",
        "                    key = k ; min_length = len(k)            \n",
        "            category_keys.append(key)\n",
        "            keywords_select[s] = key\n",
        "        else:\n",
        "            category_keys.append(list(keywords_roots[s])[0])\n",
        "            keywords_select[s] = list(keywords_roots[s])[0]\n",
        "                   \n",
        "    print(\"Nb of keywords in variable '{}': {}\".format(column,len(category_keys)))\n",
        "    return category_keys, keywords_roots, keywords_select"
      ],
      "execution_count": null,
      "outputs": []
    },
    {
      "cell_type": "code",
      "metadata": {
        "_cell_guid": "e5aebe3e-8dc1-4fb3-a61b-bd91e600fa03",
        "_execution_state": "idle",
        "_kg_hide-input": true,
        "_uuid": "eafc2971-d2bf-4c71-b3eb-1c5ec73aa88b",
        "id": "tbnm4-6K9FWU",
        "colab": {
          "base_uri": "https://localhost:8080/"
        },
        "outputId": "1da6a14c-af7b-48e5-cdb9-0466eaf1f884"
      },
      "source": [
        "keywords, keywords_roots, keywords_select = keywords_inventory(df_duplicate_cleaned,\n",
        "                                                               column = 'plot_keywords')"
      ],
      "execution_count": null,
      "outputs": [
        {
          "output_type": "stream",
          "text": [
            "Nb of keywords in variable 'plot_keywords': 9474\n"
          ],
          "name": "stdout"
        }
      ]
    },
    {
      "cell_type": "code",
      "metadata": {
        "_cell_guid": "ba1ddbdc-eff9-4a99-ad52-adb7370f03ff",
        "_execution_state": "idle",
        "_kg_hide-input": true,
        "_uuid": "68fc4672-d643-4e5d-a589-0df976d50c0f",
        "id": "Jntg85XQ9FWV",
        "colab": {
          "base_uri": "https://localhost:8080/"
        },
        "outputId": "702877cd-c1e3-45fa-8185-47dc655bada7"
      },
      "source": [
        "# Plot of a sample of keywords that appear in close varieties \n",
        "#------------------------------------------------------------\n",
        "icount = 0\n",
        "for s in keywords_roots.keys():\n",
        "    if len(keywords_roots[s]) > 1: \n",
        "        icount += 1\n",
        "        if icount < 15: print(icount, keywords_roots[s], len(keywords_roots[s]))"
      ],
      "execution_count": null,
      "outputs": [
        {
          "output_type": "stream",
          "text": [
            "1 {'alien', 'alienation'} 2\n",
            "2 {'spy', 'spying'} 2\n",
            "3 {'vigilante', 'vigilantism'} 2\n",
            "4 {'terror', 'terrorism'} 2\n",
            "5 {'flood', 'flooding'} 2\n",
            "6 {'spider', 'spiders'} 2\n",
            "7 {'horses', 'horse'} 2\n",
            "8 {'musical', 'music'} 2\n",
            "9 {'animation', 'animal', 'anime'} 3\n",
            "10 {'compass', 'compassion'} 2\n",
            "11 {'train', 'training'} 2\n",
            "12 {'sail', 'sailing'} 2\n",
            "13 {'time traveler', 'time travel'} 2\n",
            "14 {'orcs', 'orc'} 2\n"
          ],
          "name": "stdout"
        }
      ]
    },
    {
      "cell_type": "code",
      "metadata": {
        "_cell_guid": "076e93ba-46c3-4c4e-b581-40b1a375aaf4",
        "_execution_state": "idle",
        "_kg_hide-input": true,
        "_uuid": "6a0423a7-c52a-462a-b42a-f6744cb57fbf",
        "id": "K3Q20jMH9FWW"
      },
      "source": [
        "# Replacement of the keywords by the main form\n",
        "#----------------------------------------------\n",
        "def replacement_df_keywords(df, dico_replacement, roots = False):\n",
        "    df_new = df.copy(deep = True)\n",
        "    for index, row in df_new.iterrows():\n",
        "        chain = row['plot_keywords']\n",
        "        if pd.isnull(chain): continue\n",
        "        new_list = []\n",
        "        for s in chain.split('|'): \n",
        "            key = PS.stem(s) if roots else s\n",
        "            if key in dico_replacement.keys():\n",
        "                new_list.append(dico_replacement[key])\n",
        "            else:\n",
        "                new_list.append(s)       \n",
        "        df_new.at[index, 'plot_keywords']= '|'.join(new_list) \n",
        "    return df_new"
      ],
      "execution_count": null,
      "outputs": []
    },
    {
      "cell_type": "code",
      "metadata": {
        "_cell_guid": "022eb76f-1132-4d53-bbcc-790909d47a4e",
        "_execution_state": "idle",
        "_kg_hide-input": true,
        "_uuid": "387ee7c4-ba6c-4873-aeef-b8ce64fd9c24",
        "id": "90HRey2u9FWW"
      },
      "source": [
        "# Replacement of the keywords by the main keyword\n",
        "#-------------------------------------------------\n",
        "df_keywords_cleaned = replacement_df_keywords(df_duplicate_cleaned, keywords_select,roots = True)"
      ],
      "execution_count": null,
      "outputs": []
    },
    {
      "cell_type": "code",
      "metadata": {
        "_cell_guid": "df1ed48f-e1a2-4434-a0e3-55134060f481",
        "_execution_state": "idle",
        "_kg_hide-input": true,
        "_uuid": "832322b5-45da-4d5d-a870-896b26df181a",
        "id": "UEr9cPGd9FWY",
        "colab": {
          "base_uri": "https://localhost:8080/"
        },
        "outputId": "d23f2cae-dd21-4078-9c0c-30330737198a"
      },
      "source": [
        "# Count of the keywords occurences\n",
        "#----------------------------------\n",
        "#keywords.remove('')\n",
        "keyword_occurences, keywords_count = count_word(df_keywords_cleaned,'plot_keywords',keywords)\n",
        "keyword_occurences[:5]"
      ],
      "execution_count": null,
      "outputs": [
        {
          "output_type": "execute_result",
          "data": {
            "text/plain": [
              "[['', 412],\n",
              " ['woman director', 324],\n",
              " ['independent film', 318],\n",
              " ['duringcreditsstinger', 307],\n",
              " ['based on novel', 197]]"
            ]
          },
          "metadata": {
            "tags": []
          },
          "execution_count": 117
        }
      ]
    },
    {
      "cell_type": "markdown",
      "metadata": {
        "_cell_guid": "6636bc6f-529e-446e-8790-6ed68f42c8b1",
        "_execution_state": "idle",
        "_uuid": "50a13235-bdcd-4db0-9a36-5ff0f0924221",
        "id": "QwvYU9xu9FWZ"
      },
      "source": [
        "___\n",
        "#### 2.2.2 Groups of *synonyms*\n",
        "\n",
        "I clean the list of keywords in two steps. As a first step, I suppress the keywords that appear less that 5 times and replace them by a synomym of higher frequency. As a second step, I suppress all the keywords that appear in less than 3 films"
      ]
    },
    {
      "cell_type": "code",
      "metadata": {
        "_cell_guid": "4bba7949-b839-4358-aaa0-abdc64e8bd8f",
        "_execution_state": "idle",
        "_kg_hide-input": true,
        "_uuid": "83c5b6a1-afa4-4e5d-af90-680224710d74",
        "id": "VHaCaHsX9FWZ"
      },
      "source": [
        "# get the synomyms of the word 'mot_cle'\n",
        "#--------------------------------------------------------------\n",
        "def get_synonymes(mot_cle):\n",
        "    lemma = set()\n",
        "    for ss in wordnet.synsets(mot_cle):\n",
        "        for w in ss.lemma_names():\n",
        "            #_______________________________\n",
        "            # We just get the 'nouns':\n",
        "            index = ss.name().find('.')+1\n",
        "            if ss.name()[index] == 'n': lemma.add(w.lower().replace('_',' '))\n",
        "    return lemma"
      ],
      "execution_count": null,
      "outputs": []
    },
    {
      "cell_type": "code",
      "metadata": {
        "id": "KtwiXXpXtYdR",
        "colab": {
          "base_uri": "https://localhost:8080/"
        },
        "outputId": "6bead4fa-271b-417f-a8ac-c4c594d25f46"
      },
      "source": [
        "import nltk\n",
        "nltk.download('wordnet')"
      ],
      "execution_count": null,
      "outputs": [
        {
          "output_type": "stream",
          "text": [
            "[nltk_data] Downloading package wordnet to /root/nltk_data...\n",
            "[nltk_data]   Package wordnet is already up-to-date!\n"
          ],
          "name": "stdout"
        },
        {
          "output_type": "execute_result",
          "data": {
            "text/plain": [
              "True"
            ]
          },
          "metadata": {
            "tags": []
          },
          "execution_count": 90
        }
      ]
    },
    {
      "cell_type": "code",
      "metadata": {
        "_cell_guid": "4cef1665-8e2c-4ce2-9996-7a0182ae3c34",
        "_execution_state": "idle",
        "_kg_hide-input": true,
        "_uuid": "1f649014-dbf6-4e44-869a-a77d0b80d4ce",
        "id": "pPko8zHF9FWZ",
        "colab": {
          "base_uri": "https://localhost:8080/"
        },
        "outputId": "a653ca6c-bb83-43e9-ecc5-ddca4c2c95d1"
      },
      "source": [
        "# Example of a list of synonyms given by NLTK\n",
        "#---------------------------------------------------\n",
        "mot_cle = 'alien'\n",
        "lemma = get_synonymes(mot_cle)\n",
        "for s in lemma:\n",
        "    print(' \"{:<30}\" in keywords list -> {} {}'.format(s, s in keywords,\n",
        "                                                keywords_count[s] if s in keywords else 0 ))"
      ],
      "execution_count": null,
      "outputs": [
        {
          "output_type": "stream",
          "text": [
            " \"unknown                       \" in keywords list -> False 0\n",
            " \"extraterrestrial being        \" in keywords list -> False 0\n",
            " \"outlander                     \" in keywords list -> False 0\n",
            " \"noncitizen                    \" in keywords list -> False 0\n",
            " \"foreigner                     \" in keywords list -> False 0\n",
            " \"stranger                      \" in keywords list -> True 7\n",
            " \"alien                         \" in keywords list -> True 80\n",
            " \"extraterrestrial              \" in keywords list -> True 4\n"
          ],
          "name": "stdout"
        }
      ]
    },
    {
      "cell_type": "code",
      "metadata": {
        "_cell_guid": "510beb10-0d6d-47a9-8e63-e828c21703c4",
        "_execution_state": "idle",
        "_kg_hide-input": true,
        "_uuid": "e871e9c0-40c8-48e2-864f-54c3e568fb22",
        "id": "_m5UzFqS9FWb"
      },
      "source": [
        "# check if 'mot' is a key of 'key_count' with a test on the number of occurences   \n",
        "#----------------------------------------------------------------------------------\n",
        "def test_keyword(mot, key_count, threshold):\n",
        "    return (False , True)[key_count.get(mot, 0) >= threshold]"
      ],
      "execution_count": null,
      "outputs": []
    },
    {
      "cell_type": "code",
      "metadata": {
        "_cell_guid": "318d869d-fa54-4f51-a51a-43b8b4fc0d94",
        "_execution_state": "idle",
        "_kg_hide-input": true,
        "_uuid": "f2b4c949-34f2-4dfe-8062-0a662019ef07",
        "id": "0T4Jgnkd9FWb",
        "colab": {
          "base_uri": "https://localhost:8080/"
        },
        "outputId": "f2ed90e7-ff72-4e55-a0d2-0767478d83fb"
      },
      "source": [
        "keyword_occurences.sort(key = lambda x:x[1], reverse = False)\n",
        "key_count = dict()\n",
        "for s in keyword_occurences:\n",
        "    key_count[s[0]] = s[1]\n",
        "#__________________________________________________________________________\n",
        "# Creation of a dictionary to replace keywords by higher frequency keywords\n",
        "replacement_mot = dict()\n",
        "icount = 0\n",
        "for index, [mot, nb_apparitions] in enumerate(keyword_occurences):\n",
        "    if nb_apparitions > 5: continue  # only the keywords that appear less than 5 times\n",
        "    lemma = get_synonymes(mot)\n",
        "    if len(lemma) == 0: continue     # case of the plurals\n",
        "    #_________________________________________________________________\n",
        "    list_mots = [(s, key_count[s]) for s in lemma \n",
        "                  if test_keyword(s, key_count, key_count[mot])]\n",
        "    list_mots.sort(key = lambda x:(x[1],x[0]), reverse = True)    \n",
        "    if len(list_mots) <= 1: continue       # no replacement\n",
        "    if mot == list_mots[0][0]: continue    # replacement by himself\n",
        "    icount += 1\n",
        "    if  icount < 8:\n",
        "        print('{:<12} -> {:<12} (init: {})'.format(mot, list_mots[0][0], list_mots))    \n",
        "    replacement_mot[mot] = list_mots[0][0]\n",
        "\n",
        "print(90*'_'+'\\n'+'The replacement happens with {}% of the keywords.'\n",
        "      .format(round(len(replacement_mot)/len(keywords)*100,2)))"
      ],
      "execution_count": null,
      "outputs": [
        {
          "output_type": "stream",
          "text": [
            "narcism      -> narcissism   (init: [('narcissism', 1), ('narcism', 1)])\n",
            "apparition   -> shadow       (init: [('shadow', 3), ('phantom', 3), ('apparition', 1)])\n",
            "macao        -> macau        (init: [('macau', 1), ('macao', 1)])\n",
            "regent       -> trustee      (init: [('trustee', 1), ('regent', 1)])\n",
            "civilization -> culture      (init: [('culture', 2), ('civilization', 1)])\n",
            "ark          -> ark of the covenant (init: [('ark of the covenant', 2), ('ark', 1)])\n",
            "automaton    -> zombie       (init: [('zombie', 45), ('robot', 27), ('automaton', 1)])\n",
            "__________________________________________________________________________________________\n",
            "The replacement happens with 5.95% of the keywords.\n"
          ],
          "name": "stdout"
        }
      ]
    },
    {
      "cell_type": "code",
      "metadata": {
        "_cell_guid": "5976bfe7-318f-471b-a275-7dbb6aab0235",
        "_execution_state": "idle",
        "_kg_hide-input": true,
        "_uuid": "21180d92-e0a3-4c16-bfd4-3d384ab88b70",
        "id": "3y0pqgB79FWc",
        "colab": {
          "base_uri": "https://localhost:8080/"
        },
        "outputId": "c2a8384d-962a-4675-8078-c8bba7cf557a"
      },
      "source": [
        "# 2 successive replacements\n",
        "#---------------------------\n",
        "print('Keywords synonyms replacement'.upper()+'\\n'+45*'-')\n",
        "icount = 0\n",
        "for s in replacement_mot.values():\n",
        "    if s in replacement_mot.keys():\n",
        "        icount += 1\n",
        "        if icount < 10: print('{:<20} -> {:<20}'.format(s, replacement_mot[s]))\n",
        "\n",
        "for key, value in replacement_mot.items():\n",
        "    if value in replacement_mot.keys():\n",
        "        replacement_mot[key] = replacement_mot[value]"
      ],
      "execution_count": null,
      "outputs": [
        {
          "output_type": "stream",
          "text": [
            "KEYWORDS THAT APPEAR BOTH IN KEYS AND VALUES:\n",
            "---------------------------------------------\n",
            "shadow               -> dark                \n",
            "failure              -> loser               \n",
            "leech                -> parasite            \n",
            "carnival             -> circus              \n",
            "pit                  -> hell                \n",
            "drawing              -> lottery             \n",
            "deal                 -> mountain            \n",
            "twist                -> crook               \n",
            "pest                 -> plague              \n"
          ],
          "name": "stdout"
        }
      ]
    },
    {
      "cell_type": "code",
      "metadata": {
        "_cell_guid": "4dc1e53c-c5f4-4524-9aa1-19372c0fc830",
        "_execution_state": "idle",
        "_kg_hide-input": true,
        "_uuid": "1dfd958f-f333-4994-84b7-e7301a55e3b3",
        "id": "79C8mGCd9FWd",
        "colab": {
          "base_uri": "https://localhost:8080/"
        },
        "outputId": "45de7e11-baa8-4ec7-e165-6d6e5f9692b8"
      },
      "source": [
        "# replacement of keyword varieties by the main keyword\n",
        "#----------------------------------------------------------\n",
        "df_keywords_synonyms = \\\n",
        "            replacement_df_keywords(df_keywords_cleaned, replacement_mot, roots = False)   \n",
        "keywords, keywords_roots, keywords_select = \\\n",
        "            keywords_inventory(df_keywords_synonyms, column = 'plot_keywords')"
      ],
      "execution_count": null,
      "outputs": [
        {
          "output_type": "stream",
          "text": [
            "Nb of keywords in variable 'plot_keywords': 8911\n"
          ],
          "name": "stdout"
        }
      ]
    },
    {
      "cell_type": "code",
      "metadata": {
        "_cell_guid": "524966aa-1554-4d97-b2e6-ab2c0568499f",
        "_execution_state": "idle",
        "_kg_hide-input": true,
        "_uuid": "de92021c-44d6-4f85-914f-d2450db0bb98",
        "id": "fxAKkWnn9FWe",
        "colab": {
          "base_uri": "https://localhost:8080/"
        },
        "outputId": "901c41a1-511f-4006-d564-0a3c5c1367e9"
      },
      "source": [
        "# New count of keyword occurences\n",
        "#-------------------------------------\n",
        "keywords.remove('')\n",
        "new_keyword_occurences, keywords_count = count_word(df_keywords_synonyms,\n",
        "                                                    'plot_keywords',keywords)\n",
        "new_keyword_occurences[:5]"
      ],
      "execution_count": null,
      "outputs": [
        {
          "output_type": "execute_result",
          "data": {
            "text/plain": [
              "[['woman director', 324],\n",
              " ['independent film', 318],\n",
              " ['duringcreditsstinger', 307],\n",
              " ['based on novel', 197],\n",
              " ['murder', 197]]"
            ]
          },
          "metadata": {
            "tags": []
          },
          "execution_count": 96
        }
      ]
    },
    {
      "cell_type": "code",
      "metadata": {
        "_cell_guid": "d98e2e03-1913-4a31-a51f-7f14d668e5ef",
        "_execution_state": "idle",
        "_kg_hide-input": true,
        "_uuid": "aa21782d-a70d-43ff-8266-facc6216c0d4",
        "id": "j-Nhc-Ad9FWf"
      },
      "source": [
        "# deletion of keywords with low frequencies\n",
        "#-------------------------------------------\n",
        "def replacement_df_low_frequency_keywords(df, keyword_occurences):\n",
        "    df_new = df.copy(deep = True)\n",
        "    key_count = dict()\n",
        "    for s in keyword_occurences: \n",
        "        key_count[s[0]] = s[1]    \n",
        "    for index, row in df_new.iterrows():\n",
        "        chain = row['plot_keywords']\n",
        "        if pd.isnull(chain): continue\n",
        "        new_list = []\n",
        "        for s in chain.split('|'): \n",
        "            if key_count.get(s, 4) > 3: new_list.append(s)\n",
        "        df_new.at[index, 'plot_keywords']='|'.join(new_list)\n",
        "    return df_new"
      ],
      "execution_count": null,
      "outputs": []
    },
    {
      "cell_type": "code",
      "metadata": {
        "_cell_guid": "82ae7f0a-14dc-4f8d-8913-7ec2a55023f3",
        "_execution_state": "idle",
        "_kg_hide-input": true,
        "_uuid": "a6d91a4b-7048-41a8-b400-3ef1d320307d",
        "id": "Fd6OOiO59FWf",
        "colab": {
          "base_uri": "https://localhost:8080/"
        },
        "outputId": "59153f85-b1ec-45e3-ea36-c2c37b76ce4e"
      },
      "source": [
        "# Creation of a dataframe where keywords of low frequencies are suppressed\n",
        "#-------------------------------------------------------------------------\n",
        "df_keywords_occurence = \\\n",
        "    replacement_df_low_frequency_keywords(df_keywords_synonyms, new_keyword_occurences)\n",
        "keywords, keywords_roots, keywords_select = \\\n",
        "    keywords_inventory(df_keywords_occurence, column = 'plot_keywords')"
      ],
      "execution_count": null,
      "outputs": [
        {
          "output_type": "stream",
          "text": [
            "Nb of keywords in variable 'plot_keywords': 2121\n"
          ],
          "name": "stdout"
        }
      ]
    },
    {
      "cell_type": "code",
      "metadata": {
        "_cell_guid": "affb98e7-bff5-43d7-b34c-496a04a7e2b3",
        "_execution_state": "idle",
        "_kg_hide-input": true,
        "_uuid": "b0f4703c-401c-4af5-a439-ed0d4f8b5377",
        "id": "GyyWA_u09FWg",
        "colab": {
          "base_uri": "https://localhost:8080/"
        },
        "outputId": "d6343ef4-1b3f-4328-c54a-457ea49f952b"
      },
      "source": [
        "# New keywords count\n",
        "#-------------------\n",
        "keywords.remove('')\n",
        "new_keyword_occurences, keywords_count = count_word(df_keywords_occurence,\n",
        "                                                    'plot_keywords',keywords)\n",
        "new_keyword_occurences[:5]"
      ],
      "execution_count": null,
      "outputs": [
        {
          "output_type": "execute_result",
          "data": {
            "text/plain": [
              "[['woman director', 324],\n",
              " ['independent film', 318],\n",
              " ['duringcreditsstinger', 307],\n",
              " ['based on novel', 197],\n",
              " ['murder', 197]]"
            ]
          },
          "metadata": {
            "tags": []
          },
          "execution_count": 99
        }
      ]
    },
    {
      "cell_type": "markdown",
      "metadata": {
        "_cell_guid": "87cd5d23-df4b-4d4c-bb10-9ab55082080d",
        "_execution_state": "idle",
        "_uuid": "7cd6c5b6-f731-49d4-ab01-deac3ba4f003",
        "id": "ZPUiIadi9FWi"
      },
      "source": [
        "___\n",
        "### 2.2 Correlations"
      ]
    },
    {
      "cell_type": "code",
      "metadata": {
        "_cell_guid": "8c0ab061-0188-436a-9700-f55ac521d761",
        "_kg_hide-input": true,
        "_uuid": "7e482117-3979-4531-aed9-f7ab4c9b385d",
        "id": "fc_w12j-9FWi",
        "colab": {
          "base_uri": "https://localhost:8080/",
          "height": 762
        },
        "outputId": "3f133573-aa1d-45e7-957c-ae0eb384fe3e"
      },
      "source": [
        "f, ax = plt.subplots(figsize=(12, 9))\n",
        "#_____________________________\n",
        "# calculations of correlations\n",
        "corrmat = df_keywords_occurence.dropna(how='any').corr()\n",
        "#________________________________________\n",
        "k = 17 # number of variables for heatmap\n",
        "cols = corrmat.nlargest(k, 'num_voted_users')['num_voted_users'].index\n",
        "cm = np.corrcoef(df_keywords_occurence[cols].dropna(how='any').values.T)\n",
        "sns.set(font_scale=1.25)\n",
        "hm = sns.heatmap(cm, cbar=True, annot=True, square=True,\n",
        "                 fmt='.2f', annot_kws={'size': 10}, linewidth = 0.1, cmap = 'coolwarm',\n",
        "                 yticklabels=cols.values, xticklabels=cols.values)\n",
        "f.text(0.5, 0.93, \"Correlation coefficients\", ha='center', fontsize = 18, family='fantasy')\n",
        "plt.show()"
      ],
      "execution_count": null,
      "outputs": [
        {
          "output_type": "display_data",
          "data": {
            "image/png": "[encoded data removed]",
            "text/plain": [
              "<Figure size 864x648 with 2 Axes>"
            ]
          },
          "metadata": {
            "tags": [],
            "needs_background": "light"
          }
        }
      ]
    },
    {
      "cell_type": "code",
      "metadata": {
        "_cell_guid": "0da6c78b-3ba0-4f50-a64e-168575b865d0",
        "_uuid": "30f98c8c-2ef3-402d-9514-c4f9327016c9",
        "id": "10ZA6wru9FWk"
      },
      "source": [
        "df_var_cleaned = df_keywords_occurence.copy(deep = True)"
      ],
      "execution_count": null,
      "outputs": []
    },
    {
      "cell_type": "markdown",
      "metadata": {
        "_cell_guid": "3ab76b18-172d-45af-b04c-f620c2248e33",
        "_execution_state": "idle",
        "_uuid": "b32d3af4-92fb-44b3-aee6-b8166cb0d899",
        "id": "oktuCnSZ9FWl"
      },
      "source": [
        "___\n",
        "###  2.3 Missing values\n",
        "I examine the number of missing values in each variable and then choose a methodology to complete the dataset."
      ]
    },
    {
      "cell_type": "code",
      "metadata": {
        "_cell_guid": "4ad79bfe-af46-40d7-b33c-befd1db55b4d",
        "_kg_hide-input": true,
        "_uuid": "19827889-8118-4c78-a9a4-2c6331513973",
        "id": "hW9V3FUj9FWm",
        "colab": {
          "base_uri": "https://localhost:8080/",
          "height": 865
        },
        "outputId": "5b96b9d3-1337-4e59-92f9-b6a73cf501f9"
      },
      "source": [
        "missing_df = df_var_cleaned.isnull().sum(axis=0).reset_index()\n",
        "missing_df.columns = ['column_name', 'missing_count']\n",
        "missing_df['filling_factor'] = (df_var_cleaned.shape[0] \n",
        "                                - missing_df['missing_count']) / df_var_cleaned.shape[0] * 100\n",
        "missing_df = missing_df.sort_values('filling_factor').reset_index(drop = True)\n",
        "missing_df"
      ],
      "execution_count": null,
      "outputs": [
        {
          "output_type": "execute_result",
          "data": {
            "text/html": [
              "<div>\n",
              "<style scoped>\n",
              "    .dataframe tbody tr th:only-of-type {\n",
              "        vertical-align: middle;\n",
              "    }\n",
              "\n",
              "    .dataframe tbody tr th {\n",
              "        vertical-align: top;\n",
              "    }\n",
              "\n",
              "    .dataframe thead th {\n",
              "        text-align: right;\n",
              "    }\n",
              "</style>\n",
              "<table border=\"1\" class=\"dataframe\">\n",
              "  <thead>\n",
              "    <tr style=\"text-align: right;\">\n",
              "      <th></th>\n",
              "      <th>column_name</th>\n",
              "      <th>missing_count</th>\n",
              "      <th>filling_factor</th>\n",
              "    </tr>\n",
              "  </thead>\n",
              "  <tbody>\n",
              "    <tr>\n",
              "      <th>0</th>\n",
              "      <td>homepage</td>\n",
              "      <td>3091</td>\n",
              "      <td>35.644389</td>\n",
              "    </tr>\n",
              "    <tr>\n",
              "      <th>1</th>\n",
              "      <td>tagline</td>\n",
              "      <td>844</td>\n",
              "      <td>82.427649</td>\n",
              "    </tr>\n",
              "    <tr>\n",
              "      <th>2</th>\n",
              "      <td>country</td>\n",
              "      <td>174</td>\n",
              "      <td>96.377264</td>\n",
              "    </tr>\n",
              "    <tr>\n",
              "      <th>3</th>\n",
              "      <td>actor_3_name</td>\n",
              "      <td>93</td>\n",
              "      <td>98.063710</td>\n",
              "    </tr>\n",
              "    <tr>\n",
              "      <th>4</th>\n",
              "      <td>language</td>\n",
              "      <td>86</td>\n",
              "      <td>98.209452</td>\n",
              "    </tr>\n",
              "    <tr>\n",
              "      <th>5</th>\n",
              "      <td>actor_2_name</td>\n",
              "      <td>63</td>\n",
              "      <td>98.688320</td>\n",
              "    </tr>\n",
              "    <tr>\n",
              "      <th>6</th>\n",
              "      <td>actor_1_name</td>\n",
              "      <td>53</td>\n",
              "      <td>98.896523</td>\n",
              "    </tr>\n",
              "    <tr>\n",
              "      <th>7</th>\n",
              "      <td>director_name</td>\n",
              "      <td>30</td>\n",
              "      <td>99.375390</td>\n",
              "    </tr>\n",
              "    <tr>\n",
              "      <th>8</th>\n",
              "      <td>overview</td>\n",
              "      <td>3</td>\n",
              "      <td>99.937539</td>\n",
              "    </tr>\n",
              "    <tr>\n",
              "      <th>9</th>\n",
              "      <td>duration</td>\n",
              "      <td>2</td>\n",
              "      <td>99.958359</td>\n",
              "    </tr>\n",
              "    <tr>\n",
              "      <th>10</th>\n",
              "      <td>title_year</td>\n",
              "      <td>1</td>\n",
              "      <td>99.979180</td>\n",
              "    </tr>\n",
              "    <tr>\n",
              "      <th>11</th>\n",
              "      <td>release_date</td>\n",
              "      <td>1</td>\n",
              "      <td>99.979180</td>\n",
              "    </tr>\n",
              "    <tr>\n",
              "      <th>12</th>\n",
              "      <td>num_voted_users</td>\n",
              "      <td>0</td>\n",
              "      <td>100.000000</td>\n",
              "    </tr>\n",
              "    <tr>\n",
              "      <th>13</th>\n",
              "      <td>vote_average</td>\n",
              "      <td>0</td>\n",
              "      <td>100.000000</td>\n",
              "    </tr>\n",
              "    <tr>\n",
              "      <th>14</th>\n",
              "      <td>movie_title</td>\n",
              "      <td>0</td>\n",
              "      <td>100.000000</td>\n",
              "    </tr>\n",
              "    <tr>\n",
              "      <th>15</th>\n",
              "      <td>budget</td>\n",
              "      <td>0</td>\n",
              "      <td>100.000000</td>\n",
              "    </tr>\n",
              "    <tr>\n",
              "      <th>16</th>\n",
              "      <td>spoken_languages</td>\n",
              "      <td>0</td>\n",
              "      <td>100.000000</td>\n",
              "    </tr>\n",
              "    <tr>\n",
              "      <th>17</th>\n",
              "      <td>production_countries</td>\n",
              "      <td>0</td>\n",
              "      <td>100.000000</td>\n",
              "    </tr>\n",
              "    <tr>\n",
              "      <th>18</th>\n",
              "      <td>production_companies</td>\n",
              "      <td>0</td>\n",
              "      <td>100.000000</td>\n",
              "    </tr>\n",
              "    <tr>\n",
              "      <th>19</th>\n",
              "      <td>popularity</td>\n",
              "      <td>0</td>\n",
              "      <td>100.000000</td>\n",
              "    </tr>\n",
              "    <tr>\n",
              "      <th>20</th>\n",
              "      <td>original_title</td>\n",
              "      <td>0</td>\n",
              "      <td>100.000000</td>\n",
              "    </tr>\n",
              "    <tr>\n",
              "      <th>21</th>\n",
              "      <td>plot_keywords</td>\n",
              "      <td>0</td>\n",
              "      <td>100.000000</td>\n",
              "    </tr>\n",
              "    <tr>\n",
              "      <th>22</th>\n",
              "      <td>id</td>\n",
              "      <td>0</td>\n",
              "      <td>100.000000</td>\n",
              "    </tr>\n",
              "    <tr>\n",
              "      <th>23</th>\n",
              "      <td>genres</td>\n",
              "      <td>0</td>\n",
              "      <td>100.000000</td>\n",
              "    </tr>\n",
              "    <tr>\n",
              "      <th>24</th>\n",
              "      <td>status</td>\n",
              "      <td>0</td>\n",
              "      <td>100.000000</td>\n",
              "    </tr>\n",
              "    <tr>\n",
              "      <th>25</th>\n",
              "      <td>gross</td>\n",
              "      <td>0</td>\n",
              "      <td>100.000000</td>\n",
              "    </tr>\n",
              "  </tbody>\n",
              "</table>\n",
              "</div>"
            ],
            "text/plain": [
              "             column_name  missing_count  filling_factor\n",
              "0               homepage           3091       35.644389\n",
              "1                tagline            844       82.427649\n",
              "2                country            174       96.377264\n",
              "3           actor_3_name             93       98.063710\n",
              "4               language             86       98.209452\n",
              "5           actor_2_name             63       98.688320\n",
              "6           actor_1_name             53       98.896523\n",
              "7          director_name             30       99.375390\n",
              "8               overview              3       99.937539\n",
              "9               duration              2       99.958359\n",
              "10            title_year              1       99.979180\n",
              "11          release_date              1       99.979180\n",
              "12       num_voted_users              0      100.000000\n",
              "13          vote_average              0      100.000000\n",
              "14           movie_title              0      100.000000\n",
              "15                budget              0      100.000000\n",
              "16      spoken_languages              0      100.000000\n",
              "17  production_countries              0      100.000000\n",
              "18  production_companies              0      100.000000\n",
              "19            popularity              0      100.000000\n",
              "20        original_title              0      100.000000\n",
              "21         plot_keywords              0      100.000000\n",
              "22                    id              0      100.000000\n",
              "23                genres              0      100.000000\n",
              "24                status              0      100.000000\n",
              "25                 gross              0      100.000000"
            ]
          },
          "metadata": {
            "tags": []
          },
          "execution_count": 102
        }
      ]
    },
    {
      "cell_type": "markdown",
      "metadata": {
        "_cell_guid": "a3327a3d-4324-467d-b1a9-a8f12d0bff0b",
        "_uuid": "45f00de2-39d8-4db8-a73b-e08ff7d80edc",
        "id": "PLQ3Xs0n9FWn"
      },
      "source": [
        "The content of this table is now represented:"
      ]
    },
    {
      "cell_type": "code",
      "metadata": {
        "_cell_guid": "c244aa7a-5aa1-4612-8fc3-670c11e929ee",
        "_execution_state": "idle",
        "_kg_hide-input": true,
        "_uuid": "04f9574d-f48b-4322-a0dd-a6110bcca17b",
        "id": "9YrYOEvA9FWn",
        "colab": {
          "base_uri": "https://localhost:8080/",
          "height": 435
        },
        "outputId": "ab191939-4076-4fb9-e6c9-759c6c2a42d3"
      },
      "source": [
        "y_axis = missing_df['filling_factor'] \n",
        "x_label = missing_df['column_name']\n",
        "x_axis = missing_df.index\n",
        "\n",
        "fig = plt.figure(figsize=(11, 4))\n",
        "plt.xticks(rotation=80, fontsize = 14)\n",
        "plt.yticks(fontsize = 13)\n",
        "\n",
        "N_thresh = 5\n",
        "plt.axvline(x=N_thresh-0.5, linewidth=2, color = 'r')\n",
        "plt.text(N_thresh-4.8, 30, 'filling factor \\n < {}%'.format(round(y_axis[N_thresh],1)),\n",
        "         fontsize = 15, bbox=dict(boxstyle=\"round\",\n",
        "                   ec=(1.0, 0.5, 0.5),\n",
        "                   fc=(0.8, 0.5, 0.5)))\n",
        "N_thresh = 17\n",
        "plt.axvline(x=N_thresh-0.5, linewidth=2, color = 'g')\n",
        "plt.text(N_thresh, 30, 'filling factor \\n = {}%'.format(round(y_axis[N_thresh],1)),\n",
        "         fontsize = 15, bbox=dict(boxstyle=\"round\",\n",
        "                   ec=(1., 0.5, 0.5),\n",
        "                   fc=(0.5, 0.8, 0.5)))\n",
        "\n",
        "plt.xticks(x_axis, x_label, fontsize = 14 )\n",
        "plt.ylabel('Filling factor (%)', fontsize = 16)\n",
        "plt.bar(x_axis, y_axis);"
      ],
      "execution_count": null,
      "outputs": [
        {
          "output_type": "display_data",
          "data": {
            "image/png": "[encoded data removed]",
            "text/plain": [
              "<Figure size 792x288 with 1 Axes>"
            ]
          },
          "metadata": {
            "tags": []
          }
        }
      ]
    },
    {
      "cell_type": "markdown",
      "metadata": {
        "_cell_guid": "c027108e-87fb-4ff5-9efc-8b1acc43e3e7",
        "_execution_state": "idle",
        "_uuid": "1a63af99-74f2-410a-a655-e91e227fede9",
        "id": "jpjhfu-v9FWo"
      },
      "source": [
        "___\n",
        "#### 2.3.1 Setting missing title years\n",
        "\n",
        " To infer the title year, I use the list of actors and the director. For each of them, I determine the mean year of activity, using the current dataset. I then average the values obtained to estimate the title year."
      ]
    },
    {
      "cell_type": "code",
      "metadata": {
        "_cell_guid": "dc13453b-54fe-48fe-b55a-9b228dd57dc0",
        "_execution_state": "idle",
        "_kg_hide-input": false,
        "_uuid": "56a765b7-3e02-4f76-b90b-92300f63bac3",
        "id": "jScdHD6M9FWp",
        "colab": {
          "base_uri": "https://localhost:8080/",
          "height": 81
        },
        "outputId": "4bd15faa-8664-41f5-e2e3-0fde3b54de17"
      },
      "source": [
        "df_filling = df_var_cleaned.copy(deep=True)\n",
        "missing_year_info = df_filling[df_filling['title_year'].isnull()][[\n",
        "            'director_name','actor_1_name', 'actor_2_name', 'actor_3_name']]\n",
        "missing_year_info[:10]"
      ],
      "execution_count": null,
      "outputs": [
        {
          "output_type": "execute_result",
          "data": {
            "text/html": [
              "<div>\n",
              "<style scoped>\n",
              "    .dataframe tbody tr th:only-of-type {\n",
              "        vertical-align: middle;\n",
              "    }\n",
              "\n",
              "    .dataframe tbody tr th {\n",
              "        vertical-align: top;\n",
              "    }\n",
              "\n",
              "    .dataframe thead th {\n",
              "        text-align: right;\n",
              "    }\n",
              "</style>\n",
              "<table border=\"1\" class=\"dataframe\">\n",
              "  <thead>\n",
              "    <tr style=\"text-align: right;\">\n",
              "      <th></th>\n",
              "      <th>director_name</th>\n",
              "      <th>actor_1_name</th>\n",
              "      <th>actor_2_name</th>\n",
              "      <th>actor_3_name</th>\n",
              "    </tr>\n",
              "  </thead>\n",
              "  <tbody>\n",
              "    <tr>\n",
              "      <th>4553</th>\n",
              "      <td>NaN</td>\n",
              "      <td>NaN</td>\n",
              "      <td>NaN</td>\n",
              "      <td>NaN</td>\n",
              "    </tr>\n",
              "  </tbody>\n",
              "</table>\n",
              "</div>"
            ],
            "text/plain": [
              "     director_name actor_1_name actor_2_name actor_3_name\n",
              "4553           NaN          NaN          NaN          NaN"
            ]
          },
          "metadata": {
            "tags": []
          },
          "execution_count": 104
        }
      ]
    },
    {
      "cell_type": "code",
      "metadata": {
        "_cell_guid": "67741a1d-3a29-4113-994b-7d6d9be5e058",
        "_uuid": "7446bf1f-1118-4cb4-8bcf-508d71c38a1b",
        "id": "CDiIdRyw9FWp",
        "colab": {
          "base_uri": "https://localhost:8080/"
        },
        "outputId": "8cfea8e1-8775-4073-8f8e-15a23a2da2ec"
      },
      "source": [
        "df_filling.iloc[4553]"
      ],
      "execution_count": null,
      "outputs": [
        {
          "output_type": "execute_result",
          "data": {
            "text/plain": [
              "budget                                                                  0\n",
              "genres                                                                   \n",
              "homepage                                                              NaN\n",
              "id                                                                 380097\n",
              "plot_keywords                                                            \n",
              "language                                                              NaN\n",
              "original_title                                 America Is Still the Place\n",
              "overview                1971 post civil rights San Francisco seemed li...\n",
              "popularity                                                              0\n",
              "production_companies                                                   []\n",
              "production_countries                                                   []\n",
              "release_date                                                          NaT\n",
              "gross                                                                   0\n",
              "duration                                                                0\n",
              "spoken_languages                                                       []\n",
              "status                                                           Released\n",
              "tagline                                                               NaN\n",
              "movie_title                                    America Is Still the Place\n",
              "vote_average                                                            0\n",
              "num_voted_users                                                         0\n",
              "title_year                                                            NaN\n",
              "country                                                               NaN\n",
              "director_name                                                         NaN\n",
              "actor_1_name                                                          NaN\n",
              "actor_2_name                                                          NaN\n",
              "actor_3_name                                                          NaN\n",
              "Name: 4553, dtype: object"
            ]
          },
          "metadata": {
            "tags": []
          },
          "execution_count": 105
        }
      ]
    },
    {
      "cell_type": "code",
      "metadata": {
        "_cell_guid": "91a34abb-947e-4a63-b96f-64cb8ae13fe3",
        "_execution_state": "idle",
        "_kg_hide-input": true,
        "_uuid": "96a42a9c-2754-40fb-80a2-9b9cb8926d07",
        "id": "qADsOsxr9FWq"
      },
      "source": [
        "def fill_year(df):\n",
        "    col = ['director_name', 'actor_1_name', 'actor_2_name', 'actor_3_name']\n",
        "    usual_year = [0 for _ in range(4)]\n",
        "    var        = [0 for _ in range(4)]\n",
        "    #_____________________________________________________________\n",
        "    # get the mean years of activity for the actors and director\n",
        "    for i in range(4):\n",
        "        usual_year[i] = df.groupby(col[i])['title_year'].mean()\n",
        "    #_____________________________________________\n",
        "    # create a dictionnary collecting this info\n",
        "    actor_year = dict()\n",
        "    for i in range(4):\n",
        "        for s in usual_year[i].index:\n",
        "            if s in actor_year.keys():\n",
        "                if pd.notnull(usual_year[i][s]) and pd.notnull(actor_year[s]):\n",
        "                    actor_year[s] = (actor_year[s] + usual_year[i][s])/2\n",
        "                elif pd.isnull(actor_year[s]):\n",
        "                    actor_year[s] = usual_year[i][s]\n",
        "            else:\n",
        "                actor_year[s] = usual_year[i][s]\n",
        "        \n",
        "    #______________________________________\n",
        "    # identification of missing title years\n",
        "    missing_year_info = df[df['title_year'].isnull()]\n",
        "    #___________________________\n",
        "    # filling of missing values\n",
        "    icount_replaced = 0\n",
        "    for index, row in missing_year_info.iterrows():\n",
        "        value = [ np.NaN for _ in range(4)]\n",
        "        icount = 0 ; sum_year = 0\n",
        "        for i in range(4):            \n",
        "            var[i] = df.loc[index][col[i]]\n",
        "            if pd.notnull(var[i]): value[i] = actor_year[var[i]]\n",
        "            if pd.notnull(value[i]): icount += 1 ; sum_year += actor_year[var[i]]\n",
        "        if icount != 0: sum_year = sum_year / icount \n",
        "\n",
        "        if int(sum_year) > 0:\n",
        "            icount_replaced += 1\n",
        "            df.set_value(index, 'title_year', int(sum_year))\n",
        "            if icount_replaced < 10: \n",
        "                print(\"{:<45} -> {:<20}\".format(df.loc[index]['movie_title'],int(sum_year)))\n",
        "    return"
      ],
      "execution_count": null,
      "outputs": []
    },
    {
      "cell_type": "code",
      "metadata": {
        "_cell_guid": "4b9c4cbd-7b14-4465-a1ae-83c307941e4e",
        "_execution_state": "idle",
        "_kg_hide-input": false,
        "_uuid": "940a861f-bb1f-4cc3-acd6-c940337e8c75",
        "id": "I_wbb_FG9FWr"
      },
      "source": [
        "fill_year(df_filling)"
      ],
      "execution_count": null,
      "outputs": []
    },
    {
      "cell_type": "markdown",
      "metadata": {
        "_cell_guid": "dfe64748-50c8-4e7d-a4c0-22cf0bfa65dd",
        "_uuid": "c1eb011c-6007-4bd5-bfe0-0ed84ceddcf7",
        "id": "zPsRyvae9FWr"
      },
      "source": [
        "___\n",
        "#### 2.3.2 Extracting keywords from the title\n",
        "\n",
        "I try to fill missing values in the **plot_keywords** variable using the words of the title. To do so, I create the list of synonyms of all the words contained in the title and I check if any of these synonyms are already in the keyword list. When it is the case, I add this keyword to the entry:"
      ]
    },
    {
      "cell_type": "code",
      "metadata": {
        "_cell_guid": "b66d265b-4abc-4eb7-92b4-8df6c9b22643",
        "_kg_hide-input": true,
        "_uuid": "62a66d22-c104-4788-af29-ad48ece5607b",
        "id": "2Qu5ne-09FWs"
      },
      "source": [
        "icount = 0\n",
        "for index, row in df_filling[df_filling['plot_keywords'].isnull()].iterrows():\n",
        "    icount += 1\n",
        "    list_mot = row['movie_title'].strip().split()\n",
        "    new_keyword = []\n",
        "    for s in list_mot:\n",
        "        lemma = get_synonymes(s)\n",
        "        for t in list(lemma):\n",
        "            if t in keywords: \n",
        "                new_keyword.append(t)                \n",
        "    if new_keyword and icount < 15: \n",
        "        print('{:<50} -> {:<30}'.format(row['movie_title'], str(new_keyword)))\n",
        "    if new_keyword:\n",
        "        df_filling.set_value(index, 'plot_keywords', '|'.join(new_keyword))"
      ],
      "execution_count": null,
      "outputs": []
    },
    {
      "cell_type": "code",
      "metadata": {
        "_cell_guid": "7f5a7bba-5a67-4ffc-b2a2-34a077e0e649",
        "_kg_hide-input": true,
        "_uuid": "11f0f8ac-2cf6-4f7b-aad8-331940eec5d9",
        "id": "PGPjAXd69FWt",
        "colab": {
          "base_uri": "https://localhost:8080/",
          "height": 397
        },
        "outputId": "98de17ab-0e05-4562-8408-738090f83ddf"
      },
      "source": [
        "cols = corrmat.nlargest(9, 'num_voted_users')['num_voted_users'].index\n",
        "cm = np.corrcoef(df_keywords_occurence[cols].dropna(how='any').values.T)\n",
        "sns.set(font_scale=1.25)\n",
        "hm = sns.heatmap(cm, cbar=True, annot=True, square=True,\n",
        "                 fmt='.2f', annot_kws={'size': 10}, \n",
        "                 yticklabels=cols.values, xticklabels=cols.values)\n",
        "plt.show()"
      ],
      "execution_count": null,
      "outputs": [
        {
          "output_type": "display_data",
          "data": {
            "image/png": "[encoded data removed]",
            "text/plain": [
              "<Figure size 432x288 with 2 Axes>"
            ]
          },
          "metadata": {
            "tags": []
          }
        }
      ]
    },
    {
      "cell_type": "markdown",
      "metadata": {
        "_cell_guid": "9fa502ca-1a39-4c5e-8db4-45823f2ce759",
        "_uuid": "2c2babcf-168d-466f-9848-6f4fb42971f3",
        "id": "qJk5Gd7D9FWw"
      },
      "source": [
        "Finally, I examine which amount of data is still missing in the dataframe:"
      ]
    },
    {
      "cell_type": "code",
      "metadata": {
        "_cell_guid": "c034aa2d-9e16-46bf-bf34-fcdbf51fa075",
        "_execution_state": "idle",
        "_kg_hide-input": true,
        "_uuid": "e2be7086-d2de-41fa-b6e5-b0e1e66e317a",
        "id": "LgeH_Li59FWx",
        "colab": {
          "base_uri": "https://localhost:8080/",
          "height": 865
        },
        "outputId": "bc2cce2a-66c6-4f44-b76a-788eb7b158b5"
      },
      "source": [
        "df = df_filling.copy(deep = True)\n",
        "missing_df = df.isnull().sum(axis=0).reset_index()\n",
        "missing_df.columns = ['column_name', 'missing_count']\n",
        "missing_df['filling_factor'] = (df.shape[0] \n",
        "                                - missing_df['missing_count']) / df.shape[0] * 100\n",
        "missing_df = missing_df.sort_values('filling_factor').reset_index(drop = True)\n",
        "missing_df"
      ],
      "execution_count": null,
      "outputs": [
        {
          "output_type": "execute_result",
          "data": {
            "text/html": [
              "<div>\n",
              "<style scoped>\n",
              "    .dataframe tbody tr th:only-of-type {\n",
              "        vertical-align: middle;\n",
              "    }\n",
              "\n",
              "    .dataframe tbody tr th {\n",
              "        vertical-align: top;\n",
              "    }\n",
              "\n",
              "    .dataframe thead th {\n",
              "        text-align: right;\n",
              "    }\n",
              "</style>\n",
              "<table border=\"1\" class=\"dataframe\">\n",
              "  <thead>\n",
              "    <tr style=\"text-align: right;\">\n",
              "      <th></th>\n",
              "      <th>column_name</th>\n",
              "      <th>missing_count</th>\n",
              "      <th>filling_factor</th>\n",
              "    </tr>\n",
              "  </thead>\n",
              "  <tbody>\n",
              "    <tr>\n",
              "      <th>0</th>\n",
              "      <td>homepage</td>\n",
              "      <td>3091</td>\n",
              "      <td>35.644389</td>\n",
              "    </tr>\n",
              "    <tr>\n",
              "      <th>1</th>\n",
              "      <td>tagline</td>\n",
              "      <td>844</td>\n",
              "      <td>82.427649</td>\n",
              "    </tr>\n",
              "    <tr>\n",
              "      <th>2</th>\n",
              "      <td>country</td>\n",
              "      <td>174</td>\n",
              "      <td>96.377264</td>\n",
              "    </tr>\n",
              "    <tr>\n",
              "      <th>3</th>\n",
              "      <td>actor_3_name</td>\n",
              "      <td>93</td>\n",
              "      <td>98.063710</td>\n",
              "    </tr>\n",
              "    <tr>\n",
              "      <th>4</th>\n",
              "      <td>language</td>\n",
              "      <td>86</td>\n",
              "      <td>98.209452</td>\n",
              "    </tr>\n",
              "    <tr>\n",
              "      <th>5</th>\n",
              "      <td>actor_2_name</td>\n",
              "      <td>63</td>\n",
              "      <td>98.688320</td>\n",
              "    </tr>\n",
              "    <tr>\n",
              "      <th>6</th>\n",
              "      <td>actor_1_name</td>\n",
              "      <td>53</td>\n",
              "      <td>98.896523</td>\n",
              "    </tr>\n",
              "    <tr>\n",
              "      <th>7</th>\n",
              "      <td>director_name</td>\n",
              "      <td>30</td>\n",
              "      <td>99.375390</td>\n",
              "    </tr>\n",
              "    <tr>\n",
              "      <th>8</th>\n",
              "      <td>overview</td>\n",
              "      <td>3</td>\n",
              "      <td>99.937539</td>\n",
              "    </tr>\n",
              "    <tr>\n",
              "      <th>9</th>\n",
              "      <td>duration</td>\n",
              "      <td>2</td>\n",
              "      <td>99.958359</td>\n",
              "    </tr>\n",
              "    <tr>\n",
              "      <th>10</th>\n",
              "      <td>title_year</td>\n",
              "      <td>1</td>\n",
              "      <td>99.979180</td>\n",
              "    </tr>\n",
              "    <tr>\n",
              "      <th>11</th>\n",
              "      <td>release_date</td>\n",
              "      <td>1</td>\n",
              "      <td>99.979180</td>\n",
              "    </tr>\n",
              "    <tr>\n",
              "      <th>12</th>\n",
              "      <td>num_voted_users</td>\n",
              "      <td>0</td>\n",
              "      <td>100.000000</td>\n",
              "    </tr>\n",
              "    <tr>\n",
              "      <th>13</th>\n",
              "      <td>vote_average</td>\n",
              "      <td>0</td>\n",
              "      <td>100.000000</td>\n",
              "    </tr>\n",
              "    <tr>\n",
              "      <th>14</th>\n",
              "      <td>movie_title</td>\n",
              "      <td>0</td>\n",
              "      <td>100.000000</td>\n",
              "    </tr>\n",
              "    <tr>\n",
              "      <th>15</th>\n",
              "      <td>budget</td>\n",
              "      <td>0</td>\n",
              "      <td>100.000000</td>\n",
              "    </tr>\n",
              "    <tr>\n",
              "      <th>16</th>\n",
              "      <td>spoken_languages</td>\n",
              "      <td>0</td>\n",
              "      <td>100.000000</td>\n",
              "    </tr>\n",
              "    <tr>\n",
              "      <th>17</th>\n",
              "      <td>production_countries</td>\n",
              "      <td>0</td>\n",
              "      <td>100.000000</td>\n",
              "    </tr>\n",
              "    <tr>\n",
              "      <th>18</th>\n",
              "      <td>production_companies</td>\n",
              "      <td>0</td>\n",
              "      <td>100.000000</td>\n",
              "    </tr>\n",
              "    <tr>\n",
              "      <th>19</th>\n",
              "      <td>popularity</td>\n",
              "      <td>0</td>\n",
              "      <td>100.000000</td>\n",
              "    </tr>\n",
              "    <tr>\n",
              "      <th>20</th>\n",
              "      <td>original_title</td>\n",
              "      <td>0</td>\n",
              "      <td>100.000000</td>\n",
              "    </tr>\n",
              "    <tr>\n",
              "      <th>21</th>\n",
              "      <td>plot_keywords</td>\n",
              "      <td>0</td>\n",
              "      <td>100.000000</td>\n",
              "    </tr>\n",
              "    <tr>\n",
              "      <th>22</th>\n",
              "      <td>id</td>\n",
              "      <td>0</td>\n",
              "      <td>100.000000</td>\n",
              "    </tr>\n",
              "    <tr>\n",
              "      <th>23</th>\n",
              "      <td>genres</td>\n",
              "      <td>0</td>\n",
              "      <td>100.000000</td>\n",
              "    </tr>\n",
              "    <tr>\n",
              "      <th>24</th>\n",
              "      <td>status</td>\n",
              "      <td>0</td>\n",
              "      <td>100.000000</td>\n",
              "    </tr>\n",
              "    <tr>\n",
              "      <th>25</th>\n",
              "      <td>gross</td>\n",
              "      <td>0</td>\n",
              "      <td>100.000000</td>\n",
              "    </tr>\n",
              "  </tbody>\n",
              "</table>\n",
              "</div>"
            ],
            "text/plain": [
              "             column_name  missing_count  filling_factor\n",
              "0               homepage           3091       35.644389\n",
              "1                tagline            844       82.427649\n",
              "2                country            174       96.377264\n",
              "3           actor_3_name             93       98.063710\n",
              "4               language             86       98.209452\n",
              "5           actor_2_name             63       98.688320\n",
              "6           actor_1_name             53       98.896523\n",
              "7          director_name             30       99.375390\n",
              "8               overview              3       99.937539\n",
              "9               duration              2       99.958359\n",
              "10            title_year              1       99.979180\n",
              "11          release_date              1       99.979180\n",
              "12       num_voted_users              0      100.000000\n",
              "13          vote_average              0      100.000000\n",
              "14           movie_title              0      100.000000\n",
              "15                budget              0      100.000000\n",
              "16      spoken_languages              0      100.000000\n",
              "17  production_countries              0      100.000000\n",
              "18  production_companies              0      100.000000\n",
              "19            popularity              0      100.000000\n",
              "20        original_title              0      100.000000\n",
              "21         plot_keywords              0      100.000000\n",
              "22                    id              0      100.000000\n",
              "23                genres              0      100.000000\n",
              "24                status              0      100.000000\n",
              "25                 gross              0      100.000000"
            ]
          },
          "metadata": {
            "tags": []
          },
          "execution_count": 110
        }
      ]
    },
    {
      "cell_type": "markdown",
      "metadata": {
        "_cell_guid": "3e5fbd7a-f0be-407d-aa48-ff64100926a2",
        "_uuid": "73e4cd8c-6f52-4a4e-924a-d97530deb052",
        "id": "lBUsF_on9FWx"
      },
      "source": [
        "and we can see that in the worst case, the filling factor is around 96% (excluding the **homepage** and **tagline** variables)."
      ]
    },
    {
      "cell_type": "code",
      "metadata": {
        "_cell_guid": "667d446b-beaf-467f-b975-7620ed39b531",
        "_uuid": "ec8b4e5e-90ec-4178-9f7d-c6c592b3a160",
        "id": "CGqFGC_q9FWz",
        "colab": {
          "base_uri": "https://localhost:8080/"
        },
        "outputId": "2b22fd74-a63d-47a6-bb30-a5d4ddbb6ee1"
      },
      "source": [
        "df.head"
      ],
      "execution_count": null,
      "outputs": [
        {
          "output_type": "execute_result",
          "data": {
            "text/plain": [
              "<bound method NDFrame.head of          budget                                    genres  \\\n",
              "0     237000000  Action|Adventure|Fantasy|Science Fiction   \n",
              "1     300000000                  Adventure|Fantasy|Action   \n",
              "2     245000000                    Action|Adventure|Crime   \n",
              "3     250000000               Action|Crime|Drama|Thriller   \n",
              "4     260000000          Action|Adventure|Science Fiction   \n",
              "...         ...                                       ...   \n",
              "4798     220000                     Action|Crime|Thriller   \n",
              "4799       9000                            Comedy|Romance   \n",
              "4800          0             Comedy|Drama|Romance|TV Movie   \n",
              "4801          0                                             \n",
              "4802          0                               Documentary   \n",
              "\n",
              "                                               homepage      id  \\\n",
              "0                           http://www.avatarmovie.com/   19995   \n",
              "1          http://disney.go.com/disneypictures/pirates/     285   \n",
              "2           http://www.sonypictures.com/movies/spectre/  206647   \n",
              "3                    http://www.thedarkknightrises.com/   49026   \n",
              "4                  http://movies.disney.com/john-carter   49529   \n",
              "...                                                 ...     ...   \n",
              "4798                                                NaN    9367   \n",
              "4799                                                NaN   72766   \n",
              "4800  http://www.hallmarkchannel.com/signedsealeddel...  231617   \n",
              "4801                        http://shanghaicalling.com/  126186   \n",
              "4802                                                NaN   25975   \n",
              "\n",
              "                                          plot_keywords  language  \\\n",
              "0     culture clash|future|space colony|society|spac...   English   \n",
              "1     ocean|drug abuse|exotic island|east india trad...   English   \n",
              "2     spy|based on novel|secret agent|sequel|british...  Français   \n",
              "3     dc comics|crime fighter|terrorist|secret ident...   English   \n",
              "4     based on novel|mars|medallion|space travel|pri...   English   \n",
              "...                                                 ...       ...   \n",
              "4798     united states–mexico barrier|stagecoach|weapon   Español   \n",
              "4799                                                          NaN   \n",
              "4800  date|love at first sight|narration|investigato...   English   \n",
              "4801                                                      English   \n",
              "4802                          obsession|camcorder|crush   English   \n",
              "\n",
              "                                original_title  \\\n",
              "0                                       Avatar   \n",
              "1     Pirates of the Caribbean: At World's End   \n",
              "2                                      Spectre   \n",
              "3                        The Dark Knight Rises   \n",
              "4                                  John Carter   \n",
              "...                                        ...   \n",
              "4798                               El Mariachi   \n",
              "4799                                 Newlyweds   \n",
              "4800                 Signed, Sealed, Delivered   \n",
              "4801                          Shanghai Calling   \n",
              "4802                         My Date with Drew   \n",
              "\n",
              "                                               overview  popularity  \\\n",
              "0     In the 22nd century, a paraplegic Marine is di...  150.437577   \n",
              "1     Captain Barbossa, long believed to be dead, ha...  139.082615   \n",
              "2     A cryptic message from Bond’s past sends him o...  107.376788   \n",
              "3     Following the death of District Attorney Harve...  112.312950   \n",
              "4     John Carter is a war-weary, former military ca...   43.926995   \n",
              "...                                                 ...         ...   \n",
              "4798  El Mariachi just wants to play his guitar and ...   14.269792   \n",
              "4799  A newlywed couple's honeymoon is upended by th...    0.642552   \n",
              "4800  \"Signed, Sealed, Delivered\" introduces a dedic...    1.444476   \n",
              "4801  When ambitious New York attorney Sam is sent t...    0.857008   \n",
              "4802  Ever since the second grade when he first saw ...    1.929883   \n",
              "\n",
              "                                   production_companies  \\\n",
              "0     [{'name': 'Ingenious Film Partners', 'id': 289...   \n",
              "1     [{'name': 'Walt Disney Pictures', 'id': 2}, {'...   \n",
              "2     [{'name': 'Columbia Pictures', 'id': 5}, {'nam...   \n",
              "3     [{'name': 'Legendary Pictures', 'id': 923}, {'...   \n",
              "4           [{'name': 'Walt Disney Pictures', 'id': 2}]   \n",
              "...                                                 ...   \n",
              "4798           [{'name': 'Columbia Pictures', 'id': 5}]   \n",
              "4799                                                 []   \n",
              "4800  [{'name': 'Front Street Pictures', 'id': 3958}...   \n",
              "4801                                                 []   \n",
              "4802  [{'name': 'rusty bear entertainment', 'id': 87...   \n",
              "\n",
              "                                   production_countries release_date  \\\n",
              "0     [{'iso_3166_1': 'US', 'name': 'United States o...   2009-12-10   \n",
              "1     [{'iso_3166_1': 'US', 'name': 'United States o...   2007-05-19   \n",
              "2     [{'iso_3166_1': 'GB', 'name': 'United Kingdom'...   2015-10-26   \n",
              "3     [{'iso_3166_1': 'US', 'name': 'United States o...   2012-07-16   \n",
              "4     [{'iso_3166_1': 'US', 'name': 'United States o...   2012-03-07   \n",
              "...                                                 ...          ...   \n",
              "4798  [{'iso_3166_1': 'MX', 'name': 'Mexico'}, {'iso...   1992-09-04   \n",
              "4799                                                 []   2011-12-26   \n",
              "4800  [{'iso_3166_1': 'US', 'name': 'United States o...   2013-10-13   \n",
              "4801  [{'iso_3166_1': 'US', 'name': 'United States o...   2012-05-03   \n",
              "4802  [{'iso_3166_1': 'US', 'name': 'United States o...   2005-08-05   \n",
              "\n",
              "           gross  duration                                   spoken_languages  \\\n",
              "0     2787965087     162.0  [{'iso_639_1': 'en', 'name': 'English'}, {'iso...   \n",
              "1      961000000     169.0           [{'iso_639_1': 'en', 'name': 'English'}]   \n",
              "2      880674609     148.0  [{'iso_639_1': 'fr', 'name': 'Français'}, {'is...   \n",
              "3     1084939099     165.0           [{'iso_639_1': 'en', 'name': 'English'}]   \n",
              "4      284139100     132.0           [{'iso_639_1': 'en', 'name': 'English'}]   \n",
              "...          ...       ...                                                ...   \n",
              "4798     2040920      81.0           [{'iso_639_1': 'es', 'name': 'Español'}]   \n",
              "4799           0      85.0                                                 []   \n",
              "4800           0     120.0           [{'iso_639_1': 'en', 'name': 'English'}]   \n",
              "4801           0      98.0           [{'iso_639_1': 'en', 'name': 'English'}]   \n",
              "4802           0      90.0           [{'iso_639_1': 'en', 'name': 'English'}]   \n",
              "\n",
              "        status                                            tagline  \\\n",
              "0     Released                        Enter the World of Pandora.   \n",
              "1     Released     At the end of the world, the adventure begins.   \n",
              "2     Released                              A Plan No One Escapes   \n",
              "3     Released                                    The Legend Ends   \n",
              "4     Released               Lost in our world, found in another.   \n",
              "...        ...                                                ...   \n",
              "4798  Released  He didn't come looking for trouble, but troubl...   \n",
              "4799  Released  A newlywed couple's honeymoon is upended by th...   \n",
              "4800  Released                                                NaN   \n",
              "4801  Released                           A New Yorker in Shanghai   \n",
              "4802  Released                                                NaN   \n",
              "\n",
              "                                   movie_title  vote_average  num_voted_users  \\\n",
              "0                                       Avatar           7.2            11800   \n",
              "1     Pirates of the Caribbean: At World's End           6.9             4500   \n",
              "2                                      Spectre           6.3             4466   \n",
              "3                        The Dark Knight Rises           7.6             9106   \n",
              "4                                  John Carter           6.1             2124   \n",
              "...                                        ...           ...              ...   \n",
              "4798                               El Mariachi           6.6              238   \n",
              "4799                                 Newlyweds           5.9                5   \n",
              "4800                 Signed, Sealed, Delivered           7.0                6   \n",
              "4801                          Shanghai Calling           5.7                7   \n",
              "4802                         My Date with Drew           6.3               16   \n",
              "\n",
              "      title_year                   country      director_name  \\\n",
              "0         2009.0  United States of America      James Cameron   \n",
              "1         2007.0  United States of America     Gore Verbinski   \n",
              "2         2015.0            United Kingdom         Sam Mendes   \n",
              "3         2012.0  United States of America  Christopher Nolan   \n",
              "4         2012.0  United States of America     Andrew Stanton   \n",
              "...          ...                       ...                ...   \n",
              "4798      1992.0                    Mexico   Robert Rodriguez   \n",
              "4799      2011.0                       NaN       Edward Burns   \n",
              "4800      2013.0  United States of America        Scott Smith   \n",
              "4801      2012.0  United States of America        Daniel Hsia   \n",
              "4802      2005.0  United States of America   Brian Herzlinger   \n",
              "\n",
              "          actor_1_name      actor_2_name        actor_3_name  \n",
              "0          Zoe Saldana  Sigourney Weaver        Stephen Lang  \n",
              "1        Orlando Bloom   Keira Knightley   Stellan Skarsgård  \n",
              "2      Christoph Waltz       Léa Seydoux       Ralph Fiennes  \n",
              "3        Michael Caine       Gary Oldman       Anne Hathaway  \n",
              "4         Lynn Collins   Samantha Morton        Willem Dafoe  \n",
              "...                ...               ...                 ...  \n",
              "4798    Jaime de Hoyos   Peter Marquardt     Reinol Martinez  \n",
              "4799       Kerry Bishé   Marsha Dietlein  Caitlin Fitzgerald  \n",
              "4800     Kristin Booth      Crystal Lowe     Geoff Gustafson  \n",
              "4801       Eliza Coupe       Bill Paxton           Alan Ruck  \n",
              "4802  Brian Herzlinger     Corey Feldman        Eric Roberts  \n",
              "\n",
              "[4803 rows x 26 columns]>"
            ]
          },
          "metadata": {
            "tags": []
          },
          "execution_count": 111
        }
      ]
    },
    {
      "cell_type": "markdown",
      "metadata": {
        "_cell_guid": "b03f8366-a94d-471e-85cc-c0dc236aef35",
        "_execution_state": "idle",
        "_uuid": "53ab539e-b97b-453a-a959-48623edc716e",
        "id": "9ASoQsUR9FW0"
      },
      "source": [
        "___\n",
        "## 3. RECOMMENDATION ENGINE"
      ]
    },
    {
      "cell_type": "markdown",
      "metadata": {
        "_cell_guid": "2ca0f6b1-311f-44ca-bdac-7208f81310db",
        "_uuid": "c42b79ea-4c96-4bb9-aea4-5a34da8cb923",
        "id": "nn4sVc999FW0"
      },
      "source": [
        "___\n",
        "### 3.1 Basic functioning of the engine \n",
        " order to build the recommendation engine, I will basically proceed in two steps:\n",
        "- 1/ determine $N$ films with a content similar to the entry provided by the user\n",
        "- 2/ select the 5 most popular films among these $N$ films\n",
        "\n",
        "#### 3.1.1 Similarity\n",
        "We define a criteria that would tell us how close two films are. To do so, I start from the description of the film that was selected by the user: from it, I get the director name, the names of the actors and a few keywords. I then build a matrix where each row corresponds to a film of the database and where the columns correspond to the previous quantities (director + actors + keywords) plus the *k* genres"
      ]
    },
    {
      "cell_type": "markdown",
      "metadata": {
        "_cell_guid": "ec92617f-d1d6-4986-920e-fd2369998539",
        "_uuid": "52c468c1-46aa-4ae2-969f-bc3e78587b97",
        "id": "zye4SQI89FW2"
      },
      "source": [
        "\n",
        "#### 3.1.2 Popularity\n",
        "\n",
        "According to similarities between entries, we get a list of $N$ films. At this stage, I select 5 films from this list and, to do so, I give a score for every entry. I decide to compute the score according to 3 criteria:\n",
        "- the IMDB score\n",
        "- the number of votes the entry received\n",
        "- the year of release\n",
        "\n",
        "I assume that people's favorite films will be most of the time from the same period. I use Gaussian func to reward years that are closer to target movie exponentially more than far away ones\n"
      ]
    },
    {
      "cell_type": "markdown",
      "metadata": {
        "id": "4JJT9gokj03J"
      },
      "source": [
        "![image.png](data:image/png;base64,iVBORw0KGgoAAAANSUhEUgAAAZ8AAAFFCAYAAAAzR+DdAAAgAElEQVR4nO3d+3dTZaI+8PcPIOH8dobCrAUDSFvnO1CQtKhAsXR+OEcuZbxAoWjOFKED9TiCwOiaNXJpqXM5CnJxWOcwCrQFtawDAg46elBBKeIFsCAqA+XWlpbeS29Jnu8PbXb3NdlJk7dJfT5rZSnJ3u/77p30fbLf/e4dAZUrlTdBREQUbUL9D4YPERHJYAgfPvjggw8++Ij2g0c+REQkHcOHiIikY/gQEZF0DB8iIpKO4UNERNIxfIiISDqGDxERScfwISIi6Rg+REQkHcOHiIikY/gQEZF0DB8iIpKO4UNERNIxfIiISDqGDxERScfwISIi6Rg+REQkHcOHiIikY/gQEZF0DB8iIpKO4UNERNIxfIiISDqGDxERScfwISIi6Rg+REQkHcOHiIikY/gQEZF0DB8iIpKO4UNERNIxfIho0PJ6vTh16hT27duH8vJydHR0DHSTqBfDh4gGJY/Hg0WLFmH27NnIycmB0+lERkYGampqBrppBIYPEQ1Sr732GqZPn4729nZ4vV688847EELgySefRGdn50A370eP4UNEg47H40F+fj6EENi+fTsAoLW1FWlpaRg6dCjq6+sHuIXE8CGiQen//u//kJOTg5s3e/q1u3fvIi0tDUIINDQ0DHDriOFDRGHbtWsXfvjhB2n1eb1ezb9bW1uxZs0ay+U9Ho/y/z/88AOEEJg3bx66u7uj1kayh+FDRGH57//+b8yaNQtdXV1Rrcfr9eKll17CihUrsHz5csOMtU2bNgUMIKAnhH71q18hKSkJ1dXV0Wwu2cTwIaKQ/fDDDxg3bhwuX74c9bq6urqwY8cOJCQkIC0tDe3t7ZrXOzs7kZGRgdLSUssy/vSnP+Hee+/FtWvXot1csonhQ0Qh8Xq9eOKJJ/DCCy9Iq7OxsREjRozAihUrTF/fv38/XC4XWltbDa/t3LkTmZmZuHHjBnw+HwoLCw0BRvIxfIgoJJcvX4bT6cR3330nrc7Tp09DCIH9+/ebvt7c3Izhw4fj3Xff1Tx/7NgxLFiwAHV1dWhtbUVNTQ0mTZrECQcxgOFDRCHZt28fEhMT0dLSYnitubkZu3fvVobAzp49iy1btuDWrVv9qvOll16CEALvvfcetmzZgs8++0zzeldXF+bNm4fly5crz33wwQdwOp1ITU3FlClTMGXKFNx///1ITU3F3bt3+9Ue6j+GDxGFZPny5aYdeHV1NWbNmoWtW7di1qxZyMzMxOzZs/Hb3/4WSUlJaGpqCqu+rq4u/OpXv4LT6cRTTz2FPXv2ICEhAW+++aZmufz8fKVdXq8XmzZtQmpqquGxfPlyw6w5ko/hQ0S2eTweZGVl4emnn9bMcuvq6sKiRYvwySefAAD++te/QgiBL7/8EpMnT0ZiYqJmlprP5wv68POf78nKylJey8/PR1paGtra2pTlduzYgdTUVDQ3NwPomYjQ1tZmeER7dh7Zw/AhItu6urqQlpaG/Px8TUB4PB58/PHHAHomJDz55JNITk5GS0sLrl27hhs3bgDoCYQXX3wRTz31VMBHbm4uzpw5AwAoLy+HEAL79u1TysjMzMSUKVOUoAF6hgN5AWn8YPgQkW3d3d2YN28e8vPzLS/UbG5uRnJyMhYvXqwElDqozp49i7feegtvv/225ePNN99EbW0tAOCPf/wjhBDKvxsaGjBixAjMnDlTcxRTUlICIQQaGxujtfkUQQwfIrLN5/NhxYoVmDdvnuFiz/379+PMmTP47rvvIITAzp07AQA3b97Eli1bNHcbCEV+fj6SkpKUadTHjh3THAn5vfDCC0hLSzOdbk2xh+FDRCF56aWXkJqaqjnfUl1dDSEEcnJyUFRUBCEE3n//fXR1deG5554zBEUoSktLce+996KpqQlNTU3IzMxEVlaWIcxWrFiBzMxM3rE6TjB8iCgk5eXlcDqduHPnjvLc3bt3kZiYiMcffxyLFy9GVlYWZsyYgQULFmDTpk39qq+rqwtz5szBwoULMX36dKxYscIw5Hf37l24XC48//zz/aqL5GH4EFFIWlpa4HK58Pe//93wfHV1NTweD7xeL2pqapTzNP3V3d2N6upq1NfXa84f+fkvfP38888jUh9FH8OHiEL2xz/+EXPnzg37PE6kbdq0CVlZWbxbdRxh+BBRyNrb2zFjxgwcO3ZsoJuCf/7zn9JuckqRw/AhorDcunUL6enp+P777wesDa2trZg9ezY++uijAWsDhYfhQ0Rha21tHdChN5/Ph7q6ugGrn8LH8CEiIukYPgQAuHjxYlQvzmtqasKlS5eiVj4RxReGD+HgwYNwOp0oKioyncbaX16vF08//TSGDx+OI0eORLx80jp16hS2b9+OnTt32n7s2LEDhw4dMi3v3Llz+NnPfjaoH88884zkd4kYPoPI559/jvXr12PhwoX4n//5H1u/WbJ37144nU5kZ2dHtW3Nzc24//774XA4Av7cMfWPx+PBK6+8gsWLF+PJJ58M6bFu3TrTnxrw/5DbYH4sWLBgAN6tHzeGzyDx9ttvY/jw4RgyZAjGjx8PIQRmzpypuQWKXmlpKYYOHYoJEyZIuRPwV199hWHDhsHhcBh+DIwix+fzwePxhPywOurt6urC9evXB/VDfbcGkoPhMwiUl5djyJAhEEJg165dmD59uvKN7uDBg6brXL9+Hffccw8cDgeOHj0qra3FxcUQQmDChAm4ffu2tHqJKLYwfOLc3bt3kZWVpXTor776qmY4Yc+ePabrLVu2DEIIPP7441Lb29bWhpkzZ0IIwXF2ConP50NLSwtaW1ujcm6S5GL4xLnvvvtOOeqZPXu28oNa/mE3sxlsp0+fhsPhgMPhwJdffim9zW+88QaEEHA4HMoPhhEF0t3djby8PEyaNAmpqanIz8/n3avjHMMnzm3cuFEJm+eeew5Az++dvPHGG5bne+bPnw8hBB566KEB+Unh2tpaTJgwgUc/ZEtXVxfS09NRXFyMhoYGvPvuuxg6dChSU1PR3t4+0M2jMDF84pjH48HChQuV8Nm2bVvQdSorK5Ujpb1790popTl/aA4bNkz5iWUiM/4fp8vJyVFm4y1evBhCCOzfv3+AW0fhYvjEsbq6OqSkpCjhc/HixaDr+Dt9h8OBH374QUIrzX388cdKu62uLyECgKtXr8LpdCIjI0M5Ui8tLYUQAvn5+QPcOgoXwyeOXb58WTmKGTt2LKqqqgIu39nZidmzZ0MIgfvvvz/k37rv6upCbW2t6Xo+nw+3b99Gc3OzrbIqKysxbNgwCCHw7LPPhtSOeNTa2ora2tp+3wetq6sL9fX1uHPnTlwOOd25cwfV1dUhT+2vr6/XnOPJz8+HEMLwm0IUPxg+cebIkSPIycnB4sWLlXM3Qgj85Cc/wcKFC5GTk4OcnBy8//77hnVv3bqFsWPHhnVR3aFDhzB37lykpKRg/PjxWLlypdKBVFRUYMGCBZg4cSIefPBBbN26NWh5ra2tyqy3YNcjxbPy8nKsXLkSmZmZSElJwdy5c/HNN98A6LmlUU1Nja1yrl+/jg0bNiAjIwMTJkzAhAkTMG/ePPzjH/+IZvMjxuv1Ii8vD+PGjUNiYiJ++tOfYufOnWGVdfXqVYwYMWLAzllSZDB84khtbS0mT55s64rtJ5980rD+hQsXlNdffPFF2/U+++yzEEJgzJgxyM7OVob6fvGLX+Drr7/G6NGjMWzYMGRnZyvtW79+fdByV61aBSEEEhIScPXq1ZD2RTxYt24dnE6nErDZ2dlISEiAw+FQztWNHj0at27dsiyjs7MT69atQ0JCAoQQeOCBB/DYY49h/vz5ynN/+9vf5G1UmDZt2oTVq1ejra0Nra2teOKJJyCEwL59+0Iqp7u7G/PmzUNmZibvZh3nGD5x5sqVK/jiiy/w5Zdf4pFHHlHCZN26dfjiiy/w1Vdf4ezZs+jo6DCs67/AUwhh6+gEAAoKCiCEwNNPP638hPHVq1cxZswYCCHgdDpx33334bPPPsORI0eUobTx48cHvWr8L3/5i9Kec+fOhbU/vF4vXn75ZbzyyisRfZgdOYZixYoVyv7Zvn27cqujkydP4p577lG2e9iwYbhy5YppGZWVlcjIyFDK2bVrlzLk6fP5cPz4cTgcjrCGUGVqbW1FWloahBD44osvAADff/89hBDIzMwMacr0Cy+8gHnz5qG9vR3d3d1xOfRIPRg+caqlpQUPPPCA0ol9/PHHQdfZvHmzsvzZs2eDLn/q1Ck4HA4sW7ZM83xjY6NyCx//LLuGhgZMmTJFeS4lJSXoN1N1e8Kdebdr166o3OsrLS0NtbW1YbVp5cqVSjmvvvqq4fXVq1crrz/44IOm58kaGhrwi1/8Qgme1157zbDMjRs3MHbsWEyYMCHstsrg8/mwYsUKZGRkKEd59fX1yn7WD7leunQJu3fvRklJieZnsf0/3e1/bseOHdi4caO8DaGIYvjEKf/tcYJ9e1bLy8sL6UjD7Xabln3jxg2MGzdOU3dLS4vyLV0IgcLCwqDlb9u2LWAnbdfZs2dx7ty5oI/z589r/v/8+fP45ptvlEdFRYXyuHkzvL+FkpISZaht/PjxpgG8YcMGZbtzc3MNr3d3d2um0C9atMi0Lv/+W7hwoaaTjkU+n09zo9v33nvPMFvN4/Fg+fLlcLlc2L59Ox5++GE88cQT6OzsxM6dOzFx4kTs27cPpaWlKCkpgcvlwptvvjkQm0MRwPCJU+fOnVM6p/Hjx9uaPZSdna2sc+HChYDLNjU1YeHChVi5cqXhtZMnTyrl/PKXv1Q6ldbWVmzevNn2veKOHz+ulPOXv/zF1jqxrL6+XnNEuGHDBsMy6hmHQgi88cYbhmVOnDihBJgQAh988AFqampw69Yt/POf/8SRI0ewaNEiDB06FKNHjx7QKfPh6OjoQGZmJhITE5WQ93g8yMnJQVJSEhoaGlBXVweHw4GHHnoIJ06cwNChQ02PUPkbUfGL4ROntmzZovwBzp8/39Y66vCx02G1t7eb3mJ//fr1Sjn9mSatngCxatWqsMuJFXv27NF0jKdOnTIsc/PmTWXGocPhwPfff29Y5plnnlHKcDgcyuw29TVd/gkewb5ExKIXXngBycnJmouL/dft/PWvf1We+8c//oHq6mpUVVVh//79ePPNNzWP/fv3m34+KT4wfOJUbm6uZrKBHUuWLFHWsXNBqpn29nbMmTNHKeedd94JqxwA+PLLL5Vy/vznP4ddTqxwu92aczlmR6Pqo8YHHnjAMFGgoaEBDz74oOaoNjs7G/Pnz0d2djZefvllHDx4EFeuXOn3NUMD4c9//jNcLheuX78On8+H06dPw+v1KhM0OIPtx4PhE4fUd4YWQuDw4cO21lPPLjt//nxYdV+7dk355p6QkIBr166FVQ4AbN++XWnP5s2bwy6nsrIy4r/vUl9fH1IbmpqalAkCQljfLVx91Gh2vqeqqkpzhLNly5aw9kkseu+997Bo0SK0trbC6/WipqYGKSkpaGxsRGZmJtLS0gw3wm1qahqg1lK0MXzikPpi0SFDhuDy5cu21gt1thvQM7lAPZ31nXfeMT3f4+f1erF582Zb02fVQ4d27ktn5t1330VKSgomTpwY0UdWVhZaWlpst6OmpgYTJ05Utufll182LOPxeDTne/wz/CorK5VbDF2/fl1TzmC59dD777+PESNGYPny5cjPz8fTTz+NefPmYfHixfB6vXj++edx7733oqmpCT6fD+3t7Thy5AiysrIG7QXIP3YMnzhUUVGhGZax+yuMO3bsCKmzLygoUG5h7/8G6r8wVAiBvLw8wzr+QLHTaf7Xf/2XUtaRI0dsbYPe9evXMX/+fDz22GMRfaxfvz6k8wnqO3ULIfDpp58alqmurjY935Obm4vRo0ejsrISzc3NmiMoOyfUzc4bxZLW1la4XC7TCQO/+93vAPTM8MvIyMCMGTOwdOlSzJo1C3l5eRyGG8QYPnHo9ddfV/54Q7lNjvoEf7DZZQcPHtR0Ejt27DBcW7Rjxw7NOs3NzXjggQdw//332xouUV/v0p9ZS7Fw7qO9vV0zFGp2Tu21114zfGmoqqrC2LFjMXPmTOVoUX1u7qOPPgpY77PPPoshQ4bEfAA1Njbizp07hof6CLm7uxs1NTU4ffp0yMOeFH8YPnHot7/9rdI5hXKR3e3bt5Vv58FmyKmPSn7yk5+gqqoKx44d0wSS+t5cnZ2dWLFiBRwOB4qLi4O2paOjQxmCSklJsX2Ps1imPp+jv2i2rKxMM306OzsbPp8Phw4dghACu3fvVpb9/PPPlRvGLl++3LSuM2fOKNcCrVq1ir/sSXGH4RNn9NeJfPLJJyGt/9hjj0GIntuamP3Kqd/hw4chhMC//uu/orS0FK+//jqSk5Px85//HD//+c+Vcz6XLl3CwYMHlRlwzz//vK123Lx5U7lFz6xZs2L+Ikk76uvrlbs8TJo0CR999BFOnDiB1atXw+FwYPr06cr5nKlTp+LMmTOYNm0axo8fb5j1tnbtWgjRc3eDTZs24cKFCzh//jz27t2L3Nxc5R5xdi7mJYpFDJ84U1NToxy9DBs2DNevXw9p/VdeeUWZqRborgg+n0+5oaj/MWHCBNy4cQPXr1/XXEzpPzoqKiqy3Q71RbKD6RYpra2tSsCr982qVavQ2dmJd999VwldIQRGjRpl+T6sX79euXmo+jF27FgsWbJkQH4CnShSGD5xxv+rjv6jl1BvrHjx4kU4HA7bU7TPnz+P7du349ChQ5qTv3V1dTh8+DC2bt2K/fv3hzzl+tVXX1Vm6w3GO1p/++232Lt3L4qLiw3bd/36dRQXF2Pbtm2orq4OWE5lZSWKi4uxdetWvPbaazh16lTAu2ATxQuGTxyoqKhQvh3v3r1bCZ+1a9eGXFZnZyceeughCCHgdrsj3FJ7mpubkZmZaevcExENTgyfGOe/1cqQIUNw/PhxZapzKNf36Pmv1UlISAj7Bpr94T+f5HA4UF5eLr1+Ihp4DJ8Y9vXXX2vG+l966SXNEUO4M5w6OjqUO1Cb3Tg0mjweDx5//HFlxhcR/TgxfGKY+lqbn/3sZ9i7dy8cDgeGDRsW9o+v+Z0+fRpDhgxBQkJCv8sKtV6n04lhw4YNynM9RGQPwyeG3bhxA6NHj4YQAtOnT0dSUhKGDBli+15uwfjvRjBnzhwpF2r6Z+o5HI6wfzyOiAYHhk+Mu3btGnJzczFhwgQsWLAAn3/+eUTL90+nXrNmTUTL1fN6vcpwm91rgYho8GL4xInGxsao/XbJ7373OzgcDvztb3+LypXyXq8Xf/jDHzBkyBC8+OKLES+fiOIPw4cAAG+88UZUfxHzk08+GTR3aCai/mP4EBGRdAwfIiKSjuFDRETSMXyIiEg6hg8REUnH8CEiIukYPkREJB3Dh4iIpGP4EBGRdAwfIiKSjuFDRETSMXyIiEg6hg8REUnH8CEiIukYPkREJB3Dh4iIpGP4EBGRdAwfIiKSjuFDRETSMXyIiEg6hg8REUnH8CEiIukYPkREJB3Dh4iIpGP4EBGRdAwfIiKSjuFDRETSMXyIiEg6hg8REUnH8CEiIukYPhFzAO5RY+Auk19ORWE6Rk4rQkWQ5crc6SgItpDd+kaNwcgA7dTWFal9E08uoGDaGIx0HxjohthS5h5j6zNEFCkDEj6dnZ04fPgwlixZgj179sDr9aKmpkZK3dEzcB2srfApy8XIUREIn4oiTA22nYa6GD6xjuFDskkPn87OTsyYMQMulwslJSWYNWsWXC4X/uVf/gW3b9+Oev3Rw/CxruvHGD69HTrDh8iU1PBpb29HVlYWRowYgYqKno95XV0dhBBwuVxobW2Nav3R5e9ge/7rH5Yy63zK3KrXDYFg0lGX5WqXL9R27v7wKVMNhxleV7VpauEF683oDRdleXWHpGmHeWdlXlek9o1FkwNsn2kwl5nsP3dRz5HKqDEY+eivzQO2oghTdW0K1N6KwnTtvrax/wz7wn1AW4fZOvr3zCzw9HWbbYe6bH+ZDCSKEqnhs3fvXgghUFhYqDx38eJFCCGQl5cX1bptM/yRah/W3979Havqj7q3LPU6PR1JLpSnDMvowkd/FKG0zyRclE6nd8jHEBxBOvPesvs6TJNy+nHk0/99Y1KVfp3euvzbYDt8zLZb14nrywqpvYZ9EnxYTgmdQO9r7/sR8D0zee/1bdeEjz944uSojeKTtPBpa2uDy+WCEAInTpxQnt+2bRuEECguLo5a3XJoO70eug7GouPWfutUh0/P+vojlZ6OQ995qjtgWIRWoPCx6Az1be5H+PR/3+gFH86zHz7a/Wd8TvdehNhe0/coCGOwGus1rc9sGf37qtsHfeX0flFg8FCUSQufuro6jBgxAsOHD0ddXR0AwOPxICcnB0IIVFVVobm5OWr1R59ZR6jtYC07oLJc1fOqcqw6erPOM0gHGzx8zALCuA2RO+cTzr4JVo+R7fAJ0oHbCayA7VUNjdk992V+zkgdgoHfM7PhVathwp7wSedQG0kjNXwcDgdcLhe6uroAAC0tLUhOTobL5UJ1dTVSUlLieNKB3Q7WakgvNsLH2DHKDJ9g+8asnsBHE2GHj659+iOMsNoL3TmvIMFpN3ys2qGEj/6cYYVxHyih1BtAAc8LEkWAtPBpbW3FzJkz4XK50NTUhI6ODqxfvx5CCCxatAgnTpzAtGnT0N7eHrU22NLPcz5hfbu3KieGjnyCDTcFal/k9k2weozCDx91m4z7Jqz2aviDw7oM8/BRt8XqPVOzGE61HHbzb1tkrgkjsiJ1wsHXX3+NcePGYf78+Zg2bRpWrVqFnJwcJCUlISUlBR9++GFU64+u4B2sVWep7fzCPOfT7/CJ/jmf/u8bHRttsT6fEzx8lPLdJm0Lp72m5Vu/J9bnfPzrWE1aUO9v8yNa/WfI7Lwjz/tQNEm/zqe+vh7nz59HdXU1AMDr9aK8vBzl5eVRrzu6bHSwMOlQDB2o3dlufWVEJnz6yo7WbLf+7xuTqgwdtFmoGcPTVvj4y7I4DxJKe81CMNi1NZaz3dShYJjtpi/Xavab9kje0BYbMw2J+oO314kYex0soD/pq18n2HU+uSjTneuwFT7qjjTQN9pg14zYCR9DXZHaNxZN1p9/MZsird5/uiOOQEcrxmnYWqG013ieKPCwnT8QCtwB3g8g8LVZAIznhvz7oG+7jEHofw/7M7RIZI3hE4dCGtqhuMW7DtBgxvCJaWZj73ZOMtNgwPChwYzhE+v0QyoMnh8Nhg8NZgwfIiKSjuFDRETSMXyIiEg6hg8REUnH8CEiIukYPkREJB3Dh4iIpGP4EBGRdAwfIiKSjuFDRETSMXyIiEg6hg8REUnH8CEiIukYPkREJJ3U8PH5fCguLkZpaSl2796Nrq6uqNZHRESxSWr4HD16FJMmTYIQAg6HA3V1dVGtj4iIYpP0YbfKyko4nU7MnDkTHR0dUa+PiIhij/TwOXLkCIQQWLt2bdTrIiKi2CQ9fNauXQshBI4ePRr1uqSrKMJU94G+fxamx/nPIB+Ae9QYuMv6nilzp6Ogwvr1gdXTnpGjAvz89KB7j2DYJvkuoGCa/2fec2H+cTgAt3o/l+UGWDZe9Hze+LP24ZEaPu3t7cjIyIDT6cTRo0eRm5uLTZs24e7du1GtV47eP8DB1rGpleVi5Ch1+MSWMneA0AEwON8j4zbJVlGYHjRIDO8Nw+dHT2r41NbWwuFwwOl0Yvr06SgpKcGcOXPw0EMPDYLzP4OxY9Nh+MQghs/AYfj0h9Tw8Z/vmTt3Lrq7uwEApaWlEELg0KFDUa07ulTDPaqhB3/HVlaYrnrNpPOuKMJU9frBOpKKIkwdlY6CMu16ZsNfZW51u0yWKcvVvK7tiPuG1So02+D/gzMbdjPfF9r6clGmq9fO0J31tqiHfazKk/weBW2z2ev6ev37V9d2pe4A+zpIeysK0zHSXdS33wJsj/l7b759xo5Y/970bqPtz4FuG4N+UTDfZ2YBod8uO38/Zn8f6rL9ZTKQgpMaPv7zPUeOHFGe27t3b2xNQNB3xrqHdSdp8a1a84fdu4z6A9zbSfR9WE2W0VM6FlVn1dtuY4es6pD0yxiOZPTboAsXw/K61/3tUu2Dnj9eYxvU22dYxsDGtqAfRz7ReI8ClONvs9W+6dsmfwdq431Wh4eN9trtJHvaqKrfUHZ/jnyCfQ56tz/Q58mgL3T0n0tjmwNvl/HzpG+PNnz8+zR2zoHGNmnhoz7fU1tbqzyfl5cHIQS2bdsWtbrlsOrYzL75933oTTtMXSdlYPKHYijLYohMvUzwTiO08DHv/HXfDs3aFWx7bWyLdf1qst+jAEOUFutr6zIb1tFvg3Gb7LTXTmBYtVG/bvjhE/hzYF5usKEuY2AZyzIvw2wZ2++PyZchCkxa+DQ0NCA5ORkul0uZYNDS0gKXywUhBCoq4nfUvYfN8wmaPzqrP6Sesiz/wKw6NtU4umWHoK5fNTRj/kcTSvhYn3swhqKuXUE6clvboq/HlLz3KFiHHHibAnWAwcLHXnttneuyOscXRpDZOuejKTfI58lymNBiBqb6bybgdpl9YbAa+uvd19M41BYOaeHT2NiI5ORk5OXlwefzAQBOnToFIQRycnIGwa12wu/YrIb4+h0+Zp2LRYCYn3cIPXzM2hyR8LGxLdEMn1Dfo2Cdu/58g/bR//AJ1l774WMSKjLDx2pb+h0+VmXrPk+6wDE78hmpBFDsTsaJRVKH3ebNm4e5c+eivb0ddXV1yMzMxLhx41BdXR21ekMW6XM+YX2rDsIifNSdgL1v1nr+PyaLzq8/Rz7+5yN+5NP3vNwjn8DCPvLRiOSRj0n9/Try6Xte9pFPYBbho94WO7M2Qx4WtXMekNSkTjg4f/48kpKS8Pjjj2PSpEmYO43YlMwAABRoSURBVHcuKisro1qnPOF0bFZ/YEEu3gx0zkfTyQc/T2Jetrbjjfw5n9DCJ+rnfKLxHgXr4Cxe17YnnPCx115b4RP1cz6BPwfm72eQIelA53z8ZVl93tRtMv2S1lu21Tk5nvcJifQ7HDQ0NODkyZO4efMmOjs7o16fPOF0bLA5y0bHcrabycy1ALOpzDoNs292kZ/tFmL4RHu2WzTeI9NvwtrOyrBvDPshnPCx11671zdFd7ZbsM+BMUjsTpIxm+2m3o+G2W76ILHahyYjA8Zl4v36JTn4ez6RpAzZ9XyobXVsgPGaDLvfSAvV65l/yw58HYnZuQfjVFfT62ncB0xe71vHclvCCh972xI8ECDvPTJts8XRquWwrp3wMW6TnfaGcnFtsOthQpk5p6xv+3MQ5LoxA38gFGnWM/tsBbp+CYBqv/Z95rWhZTLEafIFjMwxfOKRzc6a6MeHdx2IFwyfeMTwIbLA8IkXDJ94xPAhssDwiRcMHyIiko7hQ0RE0jF8iIhIOoYPERFJx/AhIiLpGD5ERCQdw4eIiKRj+BARkXQMHyIiko7hQ0RE0jF8iIhIOoYPERFJx/AhIiLpGD5ERCQdw4eIiKRj+BARkXQMHyIiko7hE0nnziDtke+Uf1b8/ggS/t8ZVMRAW6Jq33EkOI5g47kolH3uDNIcbyFnX2irvf3IWxHe97ex8f+9hbTf3w5tNc37EGYZRIPQgIRPd3c3Tp48ieeeew5LlizB/v37pdQbXT0dS0JMhI+xLVH1owifcEh+H4jiiPTw6e7uRk5ODpKSkrBx40Zs3boVTqcTe/bsiXrd0cXwYfjoMXyIrEgNn46ODsyePRsjRozA2bNn4fV6sWTJEgghsHbt2qjWHV3fIcfxFhKUx3G8jb7wefv3R1SvmXTSvR2ssoydzmrfcVWZ6o7WvC2m6+jaYru9mnKOYOPvTcLHTl2PnOnpnNXbrNsXOb+3Fz5vP6LdFxtNwqdCs13aMq3C6u1H/G0zGzK73dd+w3tn9j6YD7tp2m7Y1p5ycvbpymOgUZyTGj4FBQUQQqCwsFB57v3338eaNWvQ3d0d1bptK8vFyFFjLB/uMqsVLY58NB1F7zLqTq63s+3rkEyW0TMcaejrNvnGbXJ00tPp9YWTrfb2horSQSphoSo7hLo0HbFhX/R1uIHCx3I7VO3ueU7VJn1dpkdv/o6/b18Y3if1PrZ6Ly3P+fjDy/gFoW97/ftAv39DPxokiiXSwqexsRHJyckQQuC77wbjtzar8FF1LIChkzP9xh1kqMm03CBt6fsGb92W4O01H0bSd+zh1mW6L4J1tKb7Sh+aPR24/ohD2waTZfYdV72uC45zZ5BmCKtgXwJ0ZVgMV2r3g1nbOZxH8U9a+FRVVUEIgcTERLS0tEStnoFj85yPpsMx7xSDzopSDU2Zd8qBOyftMI8uEGy011BngHM+9uuy2OZg53w0AaGr11++Vft0AaLt9IMdtRjbaBwSC1yG5ZeIoPuc4UPxT1r43L59G0IITJ48GV1dXZrXrly5gsuXL0etbjnCD58Ei0fgKbn6dQMNw8F4nuacvi022msVBPqjgLDqsgpii8CDqhyTDlxTvuH8k8V+C7itVkNm6sAJ7cjHckIKw4d+BKSFT0dHB+bOnYvk5GTcuXMHPp8P7e3tKC8vx6RJk/D3v/89anWHJNLnfMI68gmVP4i0Q0QBzwEZ2hKpI59w6xqAIx+DvvfDGGp2hszCCB/LIx/tcCDDhwYbqRMOqqqqkJGRgUmTJiE3NxfTp0/Hv/3bv8VO8PRLOOFj1YkE/rZvSnP0oS/XvLyeIbFQwsfOOZ/w64raOR+rADMJrp42HEeOYTttHLX4h9+icM6H4UODjfTrfNra2nDhwgXs378f1dXV6OjoiHqdcoQTPjCZIRX8GpXgJ+stvoGbzFpTd+y22ht0tls/6pI5283qqNOkrep9qA0O47Cctt7IzXZj+NBgw9vrRJLScfV0crY6c8B4wtrGxZH6a1bMZ6mpQ8HkuhNdZ2+7vUGv8wmzLpN9Ec3rfMyHO/VDmH7GYUGz8vRBqH0f7FznE2i6t7YtDB+KZwwfIiKSjuFDRETSMXyIiEg6hg8REUnH8CEiIukYPkREJB3Dh4iIpGP4EBGRdAwfIiKSjuFDRETSMXyIiEg6hg8REUnH8CEiIuniJnx8Pt9AN4GIiCIkbsLn1VdfRUtLS0jreDwelJaW4vz581FqFRERhSMmwufKlStYunQpVq5cidu3jb+xsmHDBixbtgxerzfksi9duoR77rkH33//fSSaSkREETDg4XP16lWMGDECzz77LIYOHYo1a9agu7tbeX379u1ITExEc3Nz2HUUFxcjMTERlZWVkWgyERH104CHz5o1ayCEwMqVKyGEwHPPPae8VldXh+HDh6OkpKRfdbS2tmLy5MnYsGFDf5tLREQRMKDh09zcjKSkJKSmpqKhoQEnTpzQDK1t3Lix30c9ftu3b8fw4cNRV1fX77KIiKh/BjR8qqurIYRATk4OPB6P5rWmpiYkJSVh2bJlEa1r27ZtESmPiIjCNyDhc+vWLRQXF2PDhg0QQiA7OxvFxcU4deqUMqX64sWLEEJYDrl5vV787//+L5YsWYLi4mIAQHl5OX7961+jtLTUsHxLSwtcLhcWLlwYxWnbB+AeNQYjR43ByGlFqIhSLWbK3OkoUCrsaYe7TGIDAhq4/UJEsWlAwuf48eP49a9/jcmTJ0MIgYcffhhLly7Frl27lGWKi4shhMCJEycM63s8HixcuBC5ubl4/fXXkZCQgOzsbMyaNUsJtMOHD2vW8Xq9+M1vfoPU1NSIDOOZKXMPUOdalouRo9ThE1sGbL8QUcwasGG3rq4uLFq0CEII3LhxAx6PR3NEUlBQoLymt23bNixdulQpJysrC0IIfPHFF0hPT4cQAkePHjWst3TpUowYMQJ37tyJyjYxfMwxfIhIb8DCp6WlBampqUhKSkJjY6Ph9by8PAghUF1drXm+s7MTf/jDH3Dt2jUAPeeGkpOT4XK50NraimPHjqGwsNC0Tn+ZNTU1Ed6aCyiY1jus1PtwlwEVhenGTlcXFP5lygrTVeubBElFEaaqyveXW6FZbwymFl6A6bCbxfrKy3bbYaLMbdz2QPvFfH1tXf7tip2hQyKKpAELn9u3b8PhcGDu3Lno7Ow0vO4PitraWsNr6uuALly4ACEE8vLygtb5m9/8xjTQNMpyNZ2l/hGoM9R/w7cdPqPGYKT7gH+Lejps9Xq9bVLXranLcOSjC5/e9XuCybwOW+0w8IdLLpSmBWtroHL8dfcGZV97iWiwGbDwOXHiBIQQWL16tenr/mE3s6MUn8+Hjo4OAMDWrVsNExOamppMy1y2bJlloEVC+OGj6rxNlilzq0PBrOJA4aPr2P16O3h/SNhpR/B6zfeDrWE3pT12Qo+I4t2AhY8/NPwz1fT27NkDIQRu3bqled7r9WL16tXIyclBS0sL5syZAyEEqqqqAAB37txBSkqKIYC8Xi/y8vKQlJSEhoaGqGxT2OETcJmeIAl4FBAwfKzW14aSnbbqmQaWyXp2z/n0Dd/F7vkrIoqMAQkfn8+nHIX4Q0OvoqICQgjDtOmqqioIIZCQkICvvvoKTqcTQ4cORW1tLTo6OrBq1SoUFBQYyrt79y4yMjKQkZGhHDVFWjTDJ+C5DxvhY1w/QuFjFiphho9yXirQUR4RDQoDEj53796Fy+WynGwAAA0NDUhMTMTGjRs1z3d0dCAjIwO//OUvkZKSgtdffx2JiYn493//d0ycOBFLly41vY6nrq4ODofDcphPMRDnfAbwyMf/fOSPfPqetxc+2skJnGhANLhJD5+mpiYlCHJycizvVO2/LsdsQkJ7eztOnjyJ+vp6AD1hduLECdy8ad3+Tz/9FEIInDp1KnIbo2MaPrrOuee5UMLH4pyN5fJA2Od8QgyfSJ7zUe+XnuE3k1AjokFDWvj4fD5s3LgRLpcLZWVlpheC6vlnsl26dKlfdXd3d2POnDnIysoynVkXKYZOVj/zS5nuHEr4mJQDXbBFarZbqOETsdlu+qOz3jsicPiNaNCSFj537tzBlClT4HA48J//+Z/KdTmBeL1e5OTk2JpGHci3336L4cOHo7y8vF/lBGPWyWqvw8lFWUURpoYaPoDxOh3NkYFqyMp9ALau89F17OGFj2q7A1wbFDh8TAJMqZvTrYkGK6lHPps2bcLEiRMxe/Zswyw2K21tbUhPTw96lGSlpaUFkydPxqZNm8Jan4iIIk/6OZ/6+nq0tbWFtM7t27fx8MMPh/VzCC+//DL+9Kc/hbweERFFz4D/mJxd4d4MNJrneIiIKDxxEz5ERDR4MHyIiEg6hg8REUnH8CEiIukYPkREJB3Dh4iIpGP4EBGRdAwfIiKSjuFDRETSMXyIiEg6hg8REUnH8CEiIukYPkREJB3Dh4iIpGP4EBGRdAwfIiKSjuFDRETSMXyIiEg6hk/EXEDBtDEYOcr64S4LobiyXIwclYtQVrFsk/tAv0oZKBWF6RHYB0QUiwYkfJqamnD48GEsXboUa9euxc2bgyH0ItzRM3wYPkSDmPTwOXbsGKZMmYKHH34Ye/bswcqVK5GYmIj6+vqo1x1dsRg+QJmb4UNEsUdq+Hz44YdwOp3Iy8tDd3c3AKC6uhpCCNTU1ES17ugLIXzMgqWiCFPVQ3Mmy/R0xlbDeD31uwt7yvG/XlGYjqmFF/qqdmuHAtWvWW3T1MID2iHFaUWoMCyjLafMrV7uANyjxsBd1vNfpRz3AeU1s23yh0+BZrvNwkhXrqZ9vftyWhEK3BavE5F00sKnpaUFqampcDqd+Oyzz3Djxg2UlJQgIyMDixYtgs/ni1rdISnLDfO8TXTDp6cjTkdBhXb5vk7ff85JtYy+Wreu49XXabVN6mUs6rUTPuq29QWp/jmTZVRt7glP9b7rLVu13w3L+N/TOD0CJBqMpIVPeXk5hBD46U9/iokTJ2LatGlYsmQJDh8+DK/XG7V65Qk24UDfGYYSPj0drL6D1w5LBQu/cIYFzdfRBksI4aMuxxBixn1gCFxVWf71zIfmdPurLDdgKBORfNLCp6SkBEIILFu2DO3t7ejs7IxaXQMjikc+Vp1nRRGmKs+bh4BmceVow+55FDvBYj98tMv4h+Ks90FFYbrpEFnfeSzrfa451xWh82dEFDnSwufkyZMQQmDFihWG1z788MNBcPQT7fCxOqKyHz4wKyvg+Y84CR+rfcPwIYpZ0sKnqakJkydPxpw5c9DZ2QmPx4Pm5mYUFxfjvvvuw61bt6JWd0hi8ZyPrWEjm+FjaEfwobrYCh/1fra5zxk+RDFH6my3jz/+GMnJyZg1axZyc3ORkpKCJUuWoLKyMqr1yhFq+OjCpDcITMPHamKAplMNI3xgfXSh3iY74aPd7t7nIhE+Qc7nGCZRmLWb4UMUc6Rf59PQ0ICKigocO3YMdXV1Ua9PnhDCx3CyvW+qsO3ZboYOPVj4mLXPfCKDfp3A4WOcXWacpdaf8Al9tpshtBg+RDGHt9eJmOC319F0/JrhvXQUVOg6YxvX+Wg7cztHPiZtDBiW9sLHUK77gO6Iqn/DbmXq7TY9StNd56MPGoYPUcxh+BARkXQMHyIiko7hQ0RE0jF8iIhIOoYPERFJx/AhIiLpGD5ERCQdw4eIiKRj+BARkXQMHyIiko7hQ0RE0jF8iIhIOoYPERFJx/AhIiLpGD5ERCQdw4eIiKRj+BARkXQMHyIiko7hQ0RE0jF8iIhIOoZPxByAe9QYuMtCW6vMnY6Ciui0iIgoVkkPn+bmZmzevBnLli3D2bNnAQBbt27FmjVrcPPmjyz8ynIxchTDh4h+fKSGT3V1Ne677z6sW7cO69atg9PpxIwZM/DUU0/h0UcfRWpqKhobG6PahpjC8CGiHylp4dPZ2Yn58+fjnXfeAQDU1dVBCAGXy4UrV65ACIHhw4ejubk5am2ILu2wW0VhOkZOK0JZYTpGjhrT++gLmgrN82MwtfCCUlKZe4zpOn0uoGCaahl3Uc+/3Qc0SwUu5wDco9JRUJgboB4iouiQFj6NjY2YP38+urq6AACffvophBBYs2YNPB4P1qxZg+PHj0etftvKcjWhoH9Yn9MxCZ9R6kDoDYxpRVD6eJMjn57AyEWZZhl1vRd0QaMKIlX4BC+np72aZYiIJJE67ObxeJT/LywshBACn376aVTrlMcsfHQduz5s9P+uKMJUk4Arc6tCqyzXWG7vekr42Cmnt73qIy4iIlmkhk9bWxt8Ph/a29uRlZUFh8OBO3fuAAB8Ph/a2tqiWn90mQ+7aUaygoSPaWApy/U8rw0QP+3RkJ1ywp2dR0QUCdLCp6qqChkZGdiwYQPq6urgdDqRkZGBjo4OAEBJSQmeeeaZqNUffZEKH6shv1DDJ3A5DB8iGkjSwmfv3r0QQmDRokXK/+fl5cHr9eLbb7/FxIkTUV5eHrX6bYvkOZ9IHfmoi+jPkU+A9hIRySQtfCorK5GQkIBHH30U9913H/bs2YNhw4bhP/7jPzBp0iR88MEHUatbjv6Hj9XUa01Zds752CmH4UNEA0jqOZ+6ujpUVFQoQ2319fX45ptvUFdXF9V65YhA+MBklpph8oD1bDfjdO1A5TB8iGjg8PY6ERNG+AScJh1oqE97nc/UwgMomGacuRa4HIYPEQ0chs+gwCAhovjC8IkzPZMJtEN19iYYEBHFDoZPHNIPpzF4iCjeMHyIiEg6hg8REUnH8CEiIukYPkREJB3Dh4iIpGP4EBGRdAwfIiKSjuFDRETSMXyIiEg6hg8REUnH8CEiIukYPkREJB3Dh4iIpGP4EBGRdAwfIiKSjuFDRETSMXyIiEg6hg8REUnH8CEiIukYPkREJB3Dh4iIpGP4EBGRdAwfIiKSjuFDRETSMXyIiEg6hg8REUnH8CEiIun+P51246AemBxaAAAAAElFTkSuQmCC)"
      ]
    },
    {
      "cell_type": "markdown",
      "metadata": {
        "_cell_guid": "af939410-c537-42c8-80c3-290c6c64ac3b",
        "_execution_state": "idle",
        "_uuid": "c8d2a76c-6193-4741-a3b2-32654d76499d",
        "id": "R1Ax6SXt9FW2"
      },
      "source": [
        "___\n",
        "### 3.2 Definition of the functions"
      ]
    },
    {
      "cell_type": "code",
      "metadata": {
        "_cell_guid": "cdcc4276-66c1-4177-b992-df31c92f8f34",
        "_kg_hide-input": true,
        "_uuid": "22e9f781-8ccb-4c5d-8ee8-0d88b781601d",
        "id": "wOp5OQyO9FW3"
      },
      "source": [
        "gaussian_func = lambda x,y,sigma: math.exp(-(x-y)**2/(2*sigma**2))"
      ],
      "execution_count": null,
      "outputs": []
    },
    {
      "cell_type": "code",
      "metadata": {
        "_cell_guid": "06a8b80b-aaa3-41e7-87a3-05f67af5b521",
        "_execution_state": "idle",
        "_kg_hide-input": true,
        "_uuid": "9def4416-9bd8-4387-b25b-df5410f13583",
        "id": "bhqHyKwW9FW4"
      },
      "source": [
        "def entry_variables(df, id_entry): \n",
        "    col_labels = []    \n",
        "    if pd.notnull(df['director_name'].iloc[id_entry]):\n",
        "        for s in df['director_name'].iloc[id_entry].split('|'):\n",
        "            col_labels.append(s)\n",
        "            \n",
        "    for i in range(3):\n",
        "        column = 'actor_NUM_name'.replace('NUM', str(i+1))\n",
        "        if pd.notnull(df[column].iloc[id_entry]):\n",
        "            for s in df[column].iloc[id_entry].split('|'):\n",
        "                col_labels.append(s)\n",
        "                \n",
        "    if pd.notnull(df['plot_keywords'].iloc[id_entry]):\n",
        "        for s in df['plot_keywords'].iloc[id_entry].split('|'):\n",
        "            col_labels.append(s)\n",
        "    return col_labels"
      ],
      "execution_count": null,
      "outputs": []
    },
    {
      "cell_type": "code",
      "metadata": {
        "_cell_guid": "a43c5d1a-b764-4442-9be0-28fb1bb64cf2",
        "_execution_state": "idle",
        "_kg_hide-input": true,
        "_uuid": "8bd9ddd9-dd13-4b4e-9fd6-155e3a5e75df",
        "id": "bJdObPAT9FW5"
      },
      "source": [
        "def add_variables(df, REF_VAR):    \n",
        "    for s in REF_VAR: df[s] = pd.Series([0 for _ in range(len(df))])\n",
        "    columns = ['genres', 'actor_1_name', 'actor_2_name',\n",
        "                'actor_3_name', 'director_name', 'plot_keywords']\n",
        "    for category in columns:\n",
        "        for index, row in df.iterrows():\n",
        "            if pd.isnull(row[category]): continue\n",
        "            for s in row[category].split('|'):\n",
        "                if s in REF_VAR: df.at[index, s]= 1            \n",
        "    return df"
      ],
      "execution_count": null,
      "outputs": []
    },
    {
      "cell_type": "markdown",
      "metadata": {
        "id": "K5URGR2ohtI2"
      },
      "source": [
        "Creates a list of N (= 31) films similar to the film selected by the user."
      ]
    },
    {
      "cell_type": "code",
      "metadata": {
        "_cell_guid": "0b8957fe-1cfb-4f65-84a3-c8b86eef0047",
        "_execution_state": "idle",
        "_kg_hide-input": true,
        "_uuid": "457f1d8d-acf0-46fe-8835-b8d959e72fff",
        "id": "P5jV-B2h9FW7"
      },
      "source": [
        "def recommend(df, id_entry):    \n",
        "    df_copy = df.copy(deep = True)    \n",
        "    list_genres = set()\n",
        "    for s in df['genres'].str.split('|').values:\n",
        "        list_genres = list_genres.union(set(s))    \n",
        "    #_____________________________________________________\n",
        "    # Create additional variables to check the similarity\n",
        "    variables = entry_variables(df_copy, id_entry)\n",
        "    variables += list(list_genres)\n",
        "    df_new = add_variables(df_copy, variables)\n",
        "    #____________________________________________________________________________________\n",
        "    # determination of the closest neighbors: the distance is calculated / new variables\n",
        "    X = df_new[variables].values\n",
        "    nbrs = NearestNeighbors(n_neighbors=31, algorithm='auto', metric='euclidean').fit(X)\n",
        "\n",
        "    distances, indices = nbrs.kneighbors(X)    \n",
        "    xtest = df_new.iloc[id_entry][variables].values\n",
        "    xtest = xtest.reshape(1, -1)\n",
        "\n",
        "    distances, indices = nbrs.kneighbors(xtest)\n",
        "\n",
        "    return indices[0][:]"
      ],
      "execution_count": null,
      "outputs": []
    },
    {
      "cell_type": "code",
      "metadata": {
        "_cell_guid": "464206c3-db7d-4268-bf6f-b72a831bf26c",
        "_execution_state": "idle",
        "_kg_hide-input": true,
        "_uuid": "5bb78ddd-9e1d-4f96-9957-82b1e63ed9a7",
        "id": "maz_GJO_9FW8"
      },
      "source": [
        "def extract_parameters(df, list_films):     \n",
        "    parameters_films = ['_' for _ in range(31)]\n",
        "    i = 0\n",
        "    max_users = -1\n",
        "    for index in list_films:\n",
        "        parameters_films[i] = list(df.iloc[index][['movie_title', 'title_year',\n",
        "                                        'imdb_score', 'num_user_for_reviews', \n",
        "                                        'num_voted_users']])\n",
        "        parameters_films[i].append(index)\n",
        "        max_users = max(max_users, parameters_films[i][4] )\n",
        "        i += 1\n",
        "        \n",
        "    title_main = parameters_films[0][0]\n",
        "    year_ref  = parameters_films[0][1]\n",
        "    parameters_films.sort(key = lambda x:sel_criteria(title_main, max_users,\n",
        "                                    year_ref, x[0], x[1], x[2], x[4]), reverse = True)\n",
        "\n",
        "    return parameters_films"
      ],
      "execution_count": null,
      "outputs": []
    },
    {
      "cell_type": "markdown",
      "metadata": {
        "_cell_guid": "4009609d-f995-4d8c-9250-76758c4188ba",
        "_execution_state": "idle",
        "_uuid": "b2b41f67-2bb6-4958-9244-99e9ba58e41d",
        "id": "48k_UVRc9FW8"
      },
      "source": [
        " **Function comparing 2 film titles**: the sequel *sequel()* function compares the 2 titles passed in input and defines if these titles are similar or not."
      ]
    },
    {
      "cell_type": "code",
      "metadata": {
        "_cell_guid": "e8bd5cc8-3fa5-4190-960c-bcf2ecbe8e7b",
        "_execution_state": "idle",
        "_kg_hide-input": true,
        "_uuid": "9b84f60a-0194-4332-9d33-77575a5d1244",
        "id": "nnthU5rA9FW9"
      },
      "source": [
        "def sequel(title_1, title_2):    \n",
        "    if fuzz.ratio(title_1, title_2) > 50 or fuzz.token_set_ratio(title_1, title_2) > 50:\n",
        "        return True\n",
        "    else:\n",
        "        return False"
      ],
      "execution_count": null,
      "outputs": []
    },
    {
      "cell_type": "code",
      "metadata": {
        "_cell_guid": "a9a9b869-5a7d-4a45-ab6f-67f21564d5c2",
        "_execution_state": "idle",
        "_kg_hide-input": true,
        "_uuid": "70366261-b61f-4fd0-ab24-c715c4f89e9a",
        "id": "TOWKVQW09FW9"
      },
      "source": [
        "def sel_criteria(title_main, max_users, year_ref, title, year, imdb_score, votes):    \n",
        "    if pd.notnull(year_ref):\n",
        "        factor_1 = gaussian_func(year_ref, year, 20)\n",
        "    else:\n",
        "        factor_1 = 1        \n",
        "\n",
        "    sigma = max_users * 1.0\n",
        "\n",
        "    if pd.notnull(votes):\n",
        "        factor_2 = gaussian_func(votes, max_users, sigma)\n",
        "    else:\n",
        "        factor_2 = 0\n",
        "        \n",
        "    if sequel(title_main, title):\n",
        "        note = 0\n",
        "    else:\n",
        "        note = imdb_score**2 * factor_1 * factor_2\n",
        "    \n",
        "    return note"
      ],
      "execution_count": null,
      "outputs": []
    },
    {
      "cell_type": "code",
      "metadata": {
        "_cell_guid": "c7570e82-b708-44e1-91f4-fdf0e1675e89",
        "_execution_state": "idle",
        "_kg_hide-input": true,
        "_uuid": "f3376ddd-1208-4c50-99ca-e8d849ef08a5",
        "id": "ISjb4C0w9FW_"
      },
      "source": [
        "def add_to_selection(film_selection, parameters_films):    \n",
        "    film_list = film_selection[:]\n",
        "    icount = len(film_list)    \n",
        "    for i in range(31):\n",
        "        already_in_list = False\n",
        "        for s in film_selection:\n",
        "            if s[0] == parameters_films[i][0]: already_in_list = True\n",
        "            if sequel(parameters_films[i][0], s[0]): already_in_list = True            \n",
        "        if already_in_list: continue\n",
        "        icount += 1\n",
        "        if icount <= 6:\n",
        "            film_list.append(parameters_films[i])\n",
        "    return film_list"
      ],
      "execution_count": null,
      "outputs": []
    },
    {
      "cell_type": "markdown",
      "metadata": {
        "_cell_guid": "e6c0c8f9-29b4-47be-bcb7-fed62683acb1",
        "_execution_state": "idle",
        "_uuid": "b972e2ce-2813-4271-a051-09cc9c553f46",
        "id": "7TcKt_i09FW_"
      },
      "source": [
        " **Function filtering sequels**: the *remove\\_sequels()* function remove sequels from the list if more that two films from a series are present. The older one is kept."
      ]
    },
    {
      "cell_type": "code",
      "metadata": {
        "_cell_guid": "b4cd1c6a-1d54-4d44-af22-889c82c930d2",
        "_execution_state": "idle",
        "_kg_hide-input": true,
        "_uuid": "0a7e1435-297a-41a6-a395-b94406ebbe92",
        "id": "SJ4tVlSd9FXA"
      },
      "source": [
        "def remove_sequels(film_selection):    \n",
        "    removed_from_selection = []\n",
        "    for i, film_1 in enumerate(film_selection):\n",
        "        for j, film_2 in enumerate(film_selection):\n",
        "            if j <= i: continue \n",
        "            if sequel(film_1[0], film_2[0]): \n",
        "                last_film = film_2[0] if film_1[1] < film_2[1] else film_1[0]\n",
        "                removed_from_selection.append(last_film)\n",
        "\n",
        "    film_list = [film for film in film_selection if film[0] not in removed_from_selection]\n",
        "\n",
        "    return film_list"
      ],
      "execution_count": null,
      "outputs": []
    },
    {
      "cell_type": "markdown",
      "metadata": {
        "_cell_guid": "e3959087-4d64-4287-b636-ff278560d75c",
        "_execution_state": "idle",
        "_uuid": "2572205b-bc39-4839-a7d8-7d9794cce250",
        "id": "oXbsc2si9FXA"
      },
      "source": [
        "**Main function**: create a list of 5 films that will be recommended to the user."
      ]
    },
    {
      "cell_type": "code",
      "metadata": {
        "_cell_guid": "c15718d0-b796-4bea-935b-0e5bb76e8d1b",
        "_execution_state": "idle",
        "_kg_hide-input": true,
        "_uuid": "611b0782-9302-41b3-a61e-041a63a5aeff",
        "id": "8u0JXDnB9FXB"
      },
      "source": [
        "def find_similarities(df, id_entry, del_sequels = True, verbose = False):    \n",
        "    if verbose: \n",
        "        print(90*'_' + '\\n' + \"QUERY: films similar to id={} -> '{}'\".format(id_entry,\n",
        "                                df.iloc[id_entry]['movie_title']))\n",
        "    #____________________________________\n",
        "    list_films = recommend(df, id_entry)\n",
        "    #__________________________________\n",
        "    # Create a list of 31 films\n",
        "    parameters_films = extract_parameters(df, list_films)\n",
        "    #_______________________________________\n",
        "    # Select 5 films from this list\n",
        "    film_selection = []\n",
        "    film_selection = add_to_selection(film_selection, parameters_films)\n",
        "    #__________________________________\n",
        "    # delation of the sequels\n",
        "    if del_sequels: film_selection = remove_sequels(film_selection)\n",
        "    #______________________________________________\n",
        "    # add new films to complete the list\n",
        "    film_selection = add_to_selection(film_selection, parameters_films)\n",
        "    #_____________________________________________\n",
        "    selection_titles = []\n",
        "    #print(film_selection)\n",
        "    film_selection.pop(0)\n",
        "\n",
        "    for i,s in enumerate(film_selection):\n",
        "        selection_titles.append([s[0].replace(u'\\xa0', u''), s[5]])\n",
        "        if verbose: print(\"nº{:<2}     -> {:<30}\".format(i+1, s[0]))\n",
        "\n",
        "    return selection_titles"
      ],
      "execution_count": null,
      "outputs": []
    },
    {
      "cell_type": "markdown",
      "metadata": {
        "_cell_guid": "b495fd4f-cc1e-46f3-b9c6-5c66ebd29216",
        "_uuid": "c1f6ec94-494d-4a9a-9f81-25c980d99f66",
        "id": "aWrnimI59FXC"
      },
      "source": [
        "___\n",
        "### 3.3 Making meaningful recommendations"
      ]
    },
    {
      "cell_type": "code",
      "metadata": {
        "colab": {
          "base_uri": "https://localhost:8080/"
        },
        "id": "KMJuFnyPlQlV",
        "outputId": "eaa41c00-5e1b-4636-fd91-1354b7bb89e0"
      },
      "source": [
        "!pip install pandas==0.25.3"
      ],
      "execution_count": null,
      "outputs": [
        {
          "output_type": "stream",
          "text": [
            "Requirement already satisfied: pandas==0.25.3 in /usr/local/lib/python3.7/dist-packages (0.25.3)\n",
            "Requirement already satisfied: python-dateutil>=2.6.1 in /usr/local/lib/python3.7/dist-packages (from pandas==0.25.3) (2.8.1)\n",
            "Requirement already satisfied: numpy>=1.13.3 in /usr/local/lib/python3.7/dist-packages (from pandas==0.25.3) (1.19.5)\n",
            "Requirement already satisfied: pytz>=2017.2 in /usr/local/lib/python3.7/dist-packages (from pandas==0.25.3) (2018.9)\n",
            "Requirement already satisfied: six>=1.5 in /usr/local/lib/python3.7/dist-packages (from python-dateutil>=2.6.1->pandas==0.25.3) (1.15.0)\n"
          ],
          "name": "stdout"
        }
      ]
    },
    {
      "cell_type": "markdown",
      "metadata": {
        "_cell_guid": "47612fb7-c5d4-4fae-9390-d781beca9d51",
        "_uuid": "c0003720-48ce-4dd6-8453-c7c34c298b31",
        "id": "WfFeb5Ya9FXD"
      },
      "source": [
        "Recommending sequels of the given movie may seem quite dumb ... eg:"
      ]
    },
    {
      "cell_type": "code",
      "metadata": {
        "_cell_guid": "3a4eecd9-27f7-4ed6-813f-9f687eab1bbe",
        "_kg_hide-input": true,
        "_uuid": "eeb3e34f-ed12-4981-a9fd-9c366b89643a",
        "scrolled": false,
        "id": "dQ6I5qwe9FXG",
        "colab": {
          "base_uri": "https://localhost:8080/"
        },
        "outputId": "4f4b6860-c785-4c79-8cfe-179558e07393"
      },
      "source": [
        "dum = find_similarities(df, 12, del_sequels = False, verbose = True)"
      ],
      "execution_count": null,
      "outputs": [
        {
          "output_type": "stream",
          "text": [
            "__________________________________________________________________________________________\n",
            "QUERY: films similar to id=12 -> 'Pirates of the Caribbean: Dead Man's Chest'\n",
            "nº1      -> Pirates of the Caribbean: At World's End\n",
            "nº2      -> Pirates of the Caribbean: The Curse of the Black Pearl\n",
            "nº3      -> Pirates of the Caribbean: On Stranger Tides\n",
            "nº4      -> Cutthroat Island              \n",
            "nº5      -> The Hobbit: An Unexpected Journey\n"
          ],
          "name": "stdout"
        }
      ]
    },
    {
      "cell_type": "markdown",
      "metadata": {
        "_cell_guid": "aeb9dcdd-e258-445d-ae0c-e7fcfd20129d",
        "_uuid": "9db581b8-505c-4df6-a88b-1be2b2e10d9c",
        "id": "4liU9DTr9FXH"
      },
      "source": [
        "This would be a better recommendation:\n"
      ]
    },
    {
      "cell_type": "code",
      "metadata": {
        "_cell_guid": "7651fde2-5c0c-4692-9e0e-4b8d6b2ac2de",
        "_kg_hide-input": true,
        "_uuid": "efb515b7-63bc-4d3c-ab89-1109a30f3565",
        "id": "GFYllhXm9FXH",
        "colab": {
          "base_uri": "https://localhost:8080/"
        },
        "outputId": "cb96d67d-aa03-49e7-98b5-3d7f32da20ca"
      },
      "source": [
        "dum = find_similarities(df, 12, del_sequels = True, verbose = True)"
      ],
      "execution_count": null,
      "outputs": [
        {
          "output_type": "stream",
          "text": [
            "__________________________________________________________________________________________\n",
            "QUERY: films similar to id=12 -> 'Pirates of the Caribbean: Dead Man's Chest'\n",
            "nº1      -> Cutthroat Island              \n",
            "nº2      -> The Hobbit: An Unexpected Journey\n",
            "nº3      -> The 13th Warrior              \n",
            "nº4      -> Red Sonja                     \n",
            "nº5      -> The Last Witch Hunter         \n"
          ],
          "name": "stdout"
        }
      ]
    },
    {
      "cell_type": "markdown",
      "metadata": {
        "_cell_guid": "4e8e89a0-285c-4918-a99c-bb4296dd3171",
        "_execution_state": "idle",
        "_uuid": "2454caa4-9b57-4198-8c35-23cf41971ba8",
        "id": "jHVj9TWg9FXJ"
      },
      "source": [
        "___\n",
        "### 3.4 Example of recommendation: test-case"
      ]
    },
    {
      "cell_type": "code",
      "metadata": {
        "_cell_guid": "f4b723fc-4e2d-473a-846e-40d9a416d5fd",
        "_execution_state": "idle",
        "_kg_hide-input": true,
        "_uuid": "b8bb577e-ceec-4f6a-b1f3-f08637ba6646",
        "scrolled": true,
        "id": "Gv5-E3AL9FXK",
        "colab": {
          "base_uri": "https://localhost:8080/"
        },
        "outputId": "2216634b-00e4-49ce-94c9-9b81323dd581"
      },
      "source": [
        "selection = dict()\n",
        "for i in range(0, 20, 3):\n",
        "    selection[i] = find_similarities(df, i, del_sequels = True, verbose = True)\n",
        "#find_similarities(df, i, del_sequels = True, verbose = True)\n"
      ],
      "execution_count": null,
      "outputs": [
        {
          "output_type": "stream",
          "text": [
            "__________________________________________________________________________________________\n",
            "QUERY: films similar to id=0 -> 'Avatar'\n",
            "nº1      -> Star Trek Into Darkness       \n",
            "nº2      -> Jupiter Ascending             \n",
            "nº3      -> The Fifth Element             \n",
            "nº4      -> Pirates of the Caribbean: On Stranger Tides\n",
            "nº5      -> John Carter                   \n",
            "__________________________________________________________________________________________\n",
            "QUERY: films similar to id=3 -> 'The Dark Knight Rises'\n",
            "nº1      -> Batman & Robin                \n",
            "nº2      -> The Kingdom                   \n",
            "nº3      -> The Dark Knight Rises         \n",
            "nº4      -> Kick-Ass                      \n",
            "nº5      -> Hitman                        \n",
            "__________________________________________________________________________________________\n",
            "QUERY: films similar to id=6 -> 'Tangled'\n",
            "nº1      -> The Princess and the Frog     \n",
            "nº2      -> Ponyo                         \n",
            "nº3      -> Toy Story 3                   \n",
            "nº4      -> Pinocchio                     \n",
            "nº5      -> Frozen                        \n",
            "__________________________________________________________________________________________\n",
            "QUERY: films similar to id=9 -> 'Batman v Superman: Dawn of Justice'\n",
            "nº1      -> Superman                      \n",
            "nº2      -> Batman Returns                \n",
            "nº3      -> Thor                          \n",
            "nº4      -> Thor: The Dark World          \n",
            "nº5      -> The Amazing Spider-Man 2      \n",
            "__________________________________________________________________________________________\n",
            "QUERY: films similar to id=12 -> 'Pirates of the Caribbean: Dead Man's Chest'\n",
            "nº1      -> Cutthroat Island              \n",
            "nº2      -> The Hobbit: An Unexpected Journey\n",
            "nº3      -> The 13th Warrior              \n",
            "nº4      -> Red Sonja                     \n",
            "nº5      -> The Last Witch Hunter         \n",
            "__________________________________________________________________________________________\n",
            "QUERY: films similar to id=15 -> 'The Chronicles of Narnia: Prince Caspian'\n",
            "nº1      -> The Wizard of Oz              \n",
            "nº2      -> The NeverEnding Story         \n",
            "nº3      -> Eragon                        \n",
            "nº4      -> Pan                           \n",
            "nº5      -> Arthur and the Invisibles     \n",
            "__________________________________________________________________________________________\n",
            "QUERY: films similar to id=18 -> 'Men in Black 3'\n",
            "nº1      -> Men in Black                  \n",
            "nº2      -> Galaxina                      \n",
            "nº3      -> The Stepford Wives            \n",
            "nº4      -> The Ice Pirates               \n",
            "nº5      -> Superhero Movie               \n"
          ],
          "name": "stdout"
        }
      ]
    },
    {
      "cell_type": "markdown",
      "metadata": {
        "id": "Z_wOnFGQwju5"
      },
      "source": [
        "#### Final Search Engine"
      ]
    },
    {
      "cell_type": "code",
      "metadata": {
        "id": "q0UUFXR1oi8M"
      },
      "source": [
        "titles=df['original_title']\n",
        "titles=titles.values.tolist()\n",
        "#print(titles)\n",
        "#titles.index(\"Titanic\")"
      ],
      "execution_count": null,
      "outputs": []
    },
    {
      "cell_type": "code",
      "metadata": {
        "colab": {
          "base_uri": "https://localhost:8080/"
        },
        "id": "iicBlfBNrGWh",
        "outputId": "897735f8-9d1f-4cf5-cc15-6ab003aebc48"
      },
      "source": [
        "mov=input(\"Enter the movie you like \")\n",
        "i=titles.index(mov)\n",
        "find_similarities(df, i, del_sequels = True, verbose = True)"
      ],
      "execution_count": null,
      "outputs": [
        {
          "output_type": "stream",
          "text": [
            "Enter the movie you like Jurassic Park\n",
            "__________________________________________________________________________________________\n",
            "QUERY: films similar to id=675 -> 'Jurassic Park'\n",
            "nº1      -> The Beast from 20,000 Fathoms \n",
            "nº2      -> Stargate: The Ark of Truth    \n",
            "nº3      -> The 5th Wave                  \n",
            "nº4      -> Independence Day: Resurgence  \n",
            "nº5      -> A.I. Artificial Intelligence  \n"
          ],
          "name": "stdout"
        },
        {
          "output_type": "execute_result",
          "data": {
            "text/plain": [
              "[['The Beast from 20,000 Fathoms', 4669],\n",
              " ['Stargate: The Ark of Truth', 3405],\n",
              " ['The 5th Wave', 1326],\n",
              " ['Independence Day: Resurgence', 91],\n",
              " ['A.I. Artificial Intelligence', 363]]"
            ]
          },
          "metadata": {
            "tags": []
          },
          "execution_count": 119
        }
      ]
    },
    {
      "cell_type": "markdown",
      "metadata": {
        "_cell_guid": "9ecd0faa-39e4-49c0-8306-51a52d41d88a",
        "_uuid": "b897af77-c35a-4376-82cd-bf8aca9943fa",
        "id": "jqdYfMad9FXK"
      },
      "source": [
        "___\n",
        "## 4. Conclusion: possible improvements and points to address\n",
        "\n",
        "Finally a few things were not considered when building the engine and they should deserve some attention:\n",
        "- Make movie name search more powerful\n",
        "- create a list of connections between actors to see which are the actors that use to play in similar movies.\n",
        "- extend the detections of sequels to films that don't share similar titles (e.g. Fast & Furious, James Bond etc)"
      ]
    }
  ]
}